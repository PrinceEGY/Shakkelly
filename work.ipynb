{
 "cells": [
  {
   "cell_type": "code",
   "execution_count": 1,
   "metadata": {},
   "outputs": [],
   "source": [
    "import tensorflow as tf\n",
    "import keras\n",
    "from utils import constants\n",
    "from utils.preprocessor import Preprocessor\n",
    "from tqdm import tqdm\n",
    "import matplotlib.pyplot as plt\n",
    "import pandas as pd\n",
    "import numpy as np\n",
    "from modules.data_loader import DataLoader\n",
    "from modules.losses import masked_loss\n",
    "from modules.diacritizer import Diacritizer"
   ]
  },
  {
   "cell_type": "code",
   "execution_count": 2,
   "metadata": {},
   "outputs": [],
   "source": [
    "ca_train_df, ca_val_df, ca_test_df = pd.read_csv('./dataset/Tashkeela-clean/CA/CA_train.csv'), pd.read_csv('./dataset/Tashkeela-clean/CA/CA_val.csv'), pd.read_csv('./dataset/Tashkeela-clean/CA/CA_test.csv')\n",
    "msa_train_df, msa_val_df, msa_test_df = pd.read_csv('./dataset/Tashkeela-clean/MSA/MSA_train.csv'), pd.read_csv('./dataset/Tashkeela-clean/MSA/MSA_val.csv'), pd.read_csv('./dataset/Tashkeela-clean/MSA/MSA_test.csv')"
   ]
  },
  {
   "cell_type": "code",
   "execution_count": 3,
   "metadata": {},
   "outputs": [
    {
     "data": {
      "text/html": [
       "<div>\n",
       "<style scoped>\n",
       "    .dataframe tbody tr th:only-of-type {\n",
       "        vertical-align: middle;\n",
       "    }\n",
       "\n",
       "    .dataframe tbody tr th {\n",
       "        vertical-align: top;\n",
       "    }\n",
       "\n",
       "    .dataframe thead th {\n",
       "        text-align: right;\n",
       "    }\n",
       "</style>\n",
       "<table border=\"1\" class=\"dataframe\">\n",
       "  <thead>\n",
       "    <tr style=\"text-align: right;\">\n",
       "      <th></th>\n",
       "      <th>text</th>\n",
       "      <th>words</th>\n",
       "      <th>chars</th>\n",
       "      <th>chars_no_diac</th>\n",
       "    </tr>\n",
       "  </thead>\n",
       "  <tbody>\n",
       "    <tr>\n",
       "      <th>0</th>\n",
       "      <td>وَفِي بَعْضِ النُّسَخِ بِالْإِضَافَةِ فَصَالَح...</td>\n",
       "      <td>60</td>\n",
       "      <td>479</td>\n",
       "      <td>285</td>\n",
       "    </tr>\n",
       "    <tr>\n",
       "      <th>1</th>\n",
       "      <td>غَيْرِ وَلِيِّ مَنْ ذُكِرَ دَفْعُ سِنٍّ أَعْلَ...</td>\n",
       "      <td>14</td>\n",
       "      <td>100</td>\n",
       "      <td>60</td>\n",
       "    </tr>\n",
       "    <tr>\n",
       "      <th>2</th>\n",
       "      <td>وَمِمَّنْ حَكَى أَنْ يُعَلِّمُ بِمَعْنَى أَعْل...</td>\n",
       "      <td>9</td>\n",
       "      <td>90</td>\n",
       "      <td>51</td>\n",
       "    </tr>\n",
       "    <tr>\n",
       "      <th>3</th>\n",
       "      <td>وَيَخْرُجُ بِتَعْبِيرِ الْمَالِ الْمَنْفَعَةُ ...</td>\n",
       "      <td>15</td>\n",
       "      <td>156</td>\n",
       "      <td>91</td>\n",
       "    </tr>\n",
       "    <tr>\n",
       "      <th>4</th>\n",
       "      <td>زَوْجَانِ كَافِرَانِ أَسْلَمَتْ الْمَرْأَةُ وَ...</td>\n",
       "      <td>28</td>\n",
       "      <td>248</td>\n",
       "      <td>145</td>\n",
       "    </tr>\n",
       "    <tr>\n",
       "      <th>...</th>\n",
       "      <td>...</td>\n",
       "      <td>...</td>\n",
       "      <td>...</td>\n",
       "      <td>...</td>\n",
       "    </tr>\n",
       "    <tr>\n",
       "      <th>2365073</th>\n",
       "      <td>إنْ ظَهَرَتْ قَرِينَةٌ تُقَوِّي صِدْقَ السَّيّ...</td>\n",
       "      <td>25</td>\n",
       "      <td>202</td>\n",
       "      <td>117</td>\n",
       "    </tr>\n",
       "    <tr>\n",
       "      <th>2365074</th>\n",
       "      <td>لِأَنَّهُ يُعَارِضُ ظَاهِرَ الزَّوْجِ بِالْيَد...</td>\n",
       "      <td>8</td>\n",
       "      <td>70</td>\n",
       "      <td>41</td>\n",
       "    </tr>\n",
       "    <tr>\n",
       "      <th>2365075</th>\n",
       "      <td>وَإِلَّا لَمْ يَقَعْ فَرْضًا وَلَا نَفْلًا قَا...</td>\n",
       "      <td>9</td>\n",
       "      <td>73</td>\n",
       "      <td>43</td>\n",
       "    </tr>\n",
       "    <tr>\n",
       "      <th>2365076</th>\n",
       "      <td>رَوَاهُ مُسْلِمٌ فِى الصَّحِيحِ عَنْ عَمْرٍو ا...</td>\n",
       "      <td>9</td>\n",
       "      <td>70</td>\n",
       "      <td>43</td>\n",
       "    </tr>\n",
       "    <tr>\n",
       "      <th>2365077</th>\n",
       "      <td>لِأَنَّهُمْ لَمَّا نَزَّلُوا الْبَيْضَ مَنْزِل...</td>\n",
       "      <td>21</td>\n",
       "      <td>194</td>\n",
       "      <td>113</td>\n",
       "    </tr>\n",
       "  </tbody>\n",
       "</table>\n",
       "<p>2365078 rows × 4 columns</p>\n",
       "</div>"
      ],
      "text/plain": [
       "                                                      text  words  chars  \\\n",
       "0        وَفِي بَعْضِ النُّسَخِ بِالْإِضَافَةِ فَصَالَح...     60    479   \n",
       "1        غَيْرِ وَلِيِّ مَنْ ذُكِرَ دَفْعُ سِنٍّ أَعْلَ...     14    100   \n",
       "2        وَمِمَّنْ حَكَى أَنْ يُعَلِّمُ بِمَعْنَى أَعْل...      9     90   \n",
       "3        وَيَخْرُجُ بِتَعْبِيرِ الْمَالِ الْمَنْفَعَةُ ...     15    156   \n",
       "4        زَوْجَانِ كَافِرَانِ أَسْلَمَتْ الْمَرْأَةُ وَ...     28    248   \n",
       "...                                                    ...    ...    ...   \n",
       "2365073  إنْ ظَهَرَتْ قَرِينَةٌ تُقَوِّي صِدْقَ السَّيّ...     25    202   \n",
       "2365074  لِأَنَّهُ يُعَارِضُ ظَاهِرَ الزَّوْجِ بِالْيَد...      8     70   \n",
       "2365075  وَإِلَّا لَمْ يَقَعْ فَرْضًا وَلَا نَفْلًا قَا...      9     73   \n",
       "2365076  رَوَاهُ مُسْلِمٌ فِى الصَّحِيحِ عَنْ عَمْرٍو ا...      9     70   \n",
       "2365077  لِأَنَّهُمْ لَمَّا نَزَّلُوا الْبَيْضَ مَنْزِل...     21    194   \n",
       "\n",
       "         chars_no_diac  \n",
       "0                  285  \n",
       "1                   60  \n",
       "2                   51  \n",
       "3                   91  \n",
       "4                  145  \n",
       "...                ...  \n",
       "2365073            117  \n",
       "2365074             41  \n",
       "2365075             43  \n",
       "2365076             43  \n",
       "2365077            113  \n",
       "\n",
       "[2365078 rows x 4 columns]"
      ]
     },
     "execution_count": 3,
     "metadata": {},
     "output_type": "execute_result"
    }
   ],
   "source": [
    "ca_train_df"
   ]
  },
  {
   "cell_type": "code",
   "execution_count": 4,
   "metadata": {},
   "outputs": [],
   "source": [
    "letters_tok = keras.layers.TextVectorization(\n",
    "    ragged=True,\n",
    "    standardize=lambda x:tf.concat([[\"s\"], x, [\"e\"]], axis=-1),\n",
    "    split=None,\n",
    "    vocabulary=constants.get_letters_vocabulary(),\n",
    "    )\n",
    "\n",
    "diac_tok = keras.layers.TextVectorization(\n",
    "    standardize=lambda x:tf.concat([[\" \"], x, [\" \"]], axis=-1),\n",
    "    ragged=True,\n",
    "    split=None,\n",
    "    vocabulary=constants.get_diac_vocabulary()\n",
    "    )"
   ]
  },
  {
   "cell_type": "code",
   "execution_count": 5,
   "metadata": {},
   "outputs": [
    {
     "name": "stdout",
     "output_type": "stream",
     "text": [
      "41 ['', '[UNK]', ' ', 's', 'e', 'ء', 'آ', 'أ', 'ؤ', 'إ', 'ئ', 'ا', 'ب', 'ة', 'ت', 'ث', 'ج', 'ح', 'خ', 'د', 'ذ', 'ر', 'ز', 'س', 'ش', 'ص', 'ض', 'ط', 'ظ', 'ع', 'غ', 'ف', 'ق', 'ك', 'ل', 'م', 'ن', 'ه', 'و', 'ى', 'ي']\n"
     ]
    }
   ],
   "source": [
    "print(letters_tok.vocabulary_size(), letters_tok.get_vocabulary())"
   ]
  },
  {
   "cell_type": "code",
   "execution_count": 6,
   "metadata": {},
   "outputs": [
    {
     "name": "stdout",
     "output_type": "stream",
     "text": [
      "17 ['', '[UNK]', ' ', 'ْ', 'ٌ', 'ً', 'ٍ', 'ِ', 'َ', 'ّ', 'ُ', 'ٌّ', 'ٍّ', 'ُّ', 'ِّ', 'َّ', 'ًّ']\n"
     ]
    }
   ],
   "source": [
    "print(diac_tok.vocabulary_size(), diac_tok.get_vocabulary())"
   ]
  },
  {
   "cell_type": "code",
   "execution_count": 7,
   "metadata": {},
   "outputs": [],
   "source": [
    "data_loader = DataLoader(letters_tok, diac_tok)"
   ]
  },
  {
   "cell_type": "code",
   "execution_count": 8,
   "metadata": {},
   "outputs": [],
   "source": [
    "ca_train_raw = data_loader.from_csv('./dataset/Tashkeela-clean/CA/CA_train.csv')\n",
    "ca_val_raw = data_loader.from_csv('./dataset/Tashkeela-clean/CA/CA_val.csv')\n",
    "ca_test_raw = data_loader.from_csv('./dataset/Tashkeela-clean/CA/CA_test.csv')\n",
    "\n",
    "msa_train_raw = data_loader.from_csv('./dataset/Tashkeela-clean/MSA/MSA_train.csv')\n",
    "msa_val_raw = data_loader.from_csv('./dataset/Tashkeela-clean/MSA/MSA_val.csv')\n",
    "msa_test_raw = data_loader.from_csv('./dataset/Tashkeela-clean/MSA/MSA_test.csv')"
   ]
  },
  {
   "cell_type": "code",
   "execution_count": 9,
   "metadata": {},
   "outputs": [
    {
     "data": {
      "text/plain": [
       "<tf.Tensor: shape=(), dtype=string, numpy=b'\\xd9\\x88\\xd9\\x8e\\xd9\\x81\\xd9\\x90\\xd9\\x8a \\xd8\\xa8\\xd9\\x8e\\xd8\\xb9\\xd9\\x92\\xd8\\xb6\\xd9\\x90 \\xd8\\xa7\\xd9\\x84\\xd9\\x86\\xd9\\x91\\xd9\\x8f\\xd8\\xb3\\xd9\\x8e\\xd8\\xae\\xd9\\x90 \\xd8\\xa8\\xd9\\x90\\xd8\\xa7\\xd9\\x84\\xd9\\x92\\xd8\\xa5\\xd9\\x90\\xd8\\xb6\\xd9\\x8e\\xd8\\xa7\\xd9\\x81\\xd9\\x8e\\xd8\\xa9\\xd9\\x90 \\xd9\\x81\\xd9\\x8e\\xd8\\xb5\\xd9\\x8e\\xd8\\xa7\\xd9\\x84\\xd9\\x8e\\xd8\\xad\\xd9\\x8e \\xd8\\xa7\\xd9\\x84\\xd8\\xb1\\xd9\\x91\\xd9\\x8e\\xd8\\xac\\xd9\\x8f\\xd9\\x84\\xd9\\x8f \\xd8\\xa7\\xd9\\x84\\xd9\\x92\\xd9\\x85\\xd9\\x8e\\xd8\\xb1\\xd9\\x90\\xd9\\x8a\\xd8\\xb6\\xd9\\x8e \\xd8\\xb9\\xd9\\x8e\\xd9\\x84\\xd9\\x8e\\xd9\\x89 \\xd8\\xac\\xd9\\x8f\\xd8\\xb1\\xd9\\x92\\xd8\\xad\\xd9\\x90\\xd9\\x87\\xd9\\x90 \\xd9\\x81\\xd9\\x90\\xd9\\x8a \\xd8\\xad\\xd9\\x8e\\xd8\\xa7\\xd9\\x84\\xd9\\x90 \\xd9\\x85\\xd9\\x8e\\xd8\\xb1\\xd9\\x8e\\xd8\\xb6\\xd9\\x90\\xd9\\x87\\xd9\\x90 \\xd9\\x85\\xd9\\x90\\xd9\\x86\\xd9\\x92 \\xd8\\xa7\\xd9\\x84\\xd9\\x92\\xd8\\xac\\xd9\\x8f\\xd8\\xb1\\xd9\\x92\\xd8\\xad\\xd9\\x90 \\xd8\\xa8\\xd9\\x90 \\xd9\\x85\\xd9\\x8e\\xd8\\xa7\\xd9\\x84\\xd9\\x8d \\xd9\\x82\\xd9\\x8e\\xd8\\xaf\\xd9\\x92\\xd8\\xb1\\xd9\\x90 \\xd8\\xa3\\xd9\\x8e\\xd8\\xb1\\xd9\\x92\\xd8\\xb4\\xd9\\x90\\xd9\\x87\\xd9\\x90 \\xd8\\xa3\\xd9\\x8e\\xd9\\x8a\\xd9\\x92 \\xd8\\xaf\\xd9\\x90\\xd9\\x8a\\xd9\\x8e\\xd8\\xa9\\xd9\\x90 \\xd8\\xa7\\xd9\\x84\\xd9\\x92\\xd8\\xac\\xd9\\x8f\\xd8\\xb1\\xd9\\x92\\xd8\\xad\\xd9\\x90 \\xd8\\xa3\\xd9\\x8e\\xd9\\x88\\xd9\\x92 \\xd8\\xba\\xd9\\x8e\\xd9\\x8a\\xd9\\x92\\xd8\\xb1\\xd9\\x90\\xd9\\x87\\xd9\\x90 \\xd8\\xa3\\xd9\\x8e\\xd9\\x8a\\xd9\\x92 \\xd8\\xa7\\xd9\\x84\\xd9\\x92\\xd8\\xa3\\xd9\\x8e\\xd8\\xb1\\xd9\\x92\\xd8\\xb4\\xd9\\x90 \\xd8\\xb5\\xd9\\x8e\\xd8\\xa7\\xd8\\xaf\\xd9\\x90\\xd9\\x82\\xd9\\x8c \\xd8\\xa8\\xd9\\x90\\xd8\\xa3\\xd9\\x8e\\xd9\\x82\\xd9\\x8e\\xd9\\x84\\xd9\\x91\\xd9\\x8e \\xd9\\x88\\xd9\\x8e\\xd8\\xa3\\xd9\\x8e\\xd9\\x83\\xd9\\x92\\xd8\\xab\\xd9\\x8e\\xd8\\xb1\\xd9\\x8e \\xd9\\x85\\xd9\\x90\\xd9\\x86\\xd9\\x92\\xd9\\x87\\xd9\\x8f \\xd8\\xab\\xd9\\x8f\\xd9\\x85\\xd9\\x91\\xd9\\x8e \\xd9\\x85\\xd9\\x8e\\xd8\\xa7\\xd8\\xaa\\xd9\\x8e \\xd8\\xa7\\xd9\\x84\\xd9\\x92\\xd9\\x85\\xd9\\x8e\\xd8\\xb1\\xd9\\x90\\xd9\\x8a\\xd8\\xb6\\xd9\\x8f \\xd9\\x85\\xd9\\x90\\xd9\\x86\\xd9\\x92 \\xd9\\x85\\xd9\\x8e\\xd8\\xb1\\xd9\\x8e\\xd8\\xb6\\xd9\\x90\\xd9\\x87\\xd9\\x90 \\xd9\\x85\\xd9\\x90\\xd9\\x86\\xd9\\x92 \\xd8\\xb0\\xd9\\x8e\\xd9\\x84\\xd9\\x90\\xd9\\x83\\xd9\\x8e \\xd8\\xa7\\xd9\\x84\\xd9\\x92\\xd8\\xac\\xd9\\x8f\\xd8\\xb1\\xd9\\x92\\xd8\\xad\\xd9\\x90 \\xd8\\xac\\xd9\\x8e\\xd8\\xa7\\xd8\\xb2\\xd9\\x8e \\xd8\\xb5\\xd9\\x8f\\xd9\\x84\\xd9\\x92\\xd8\\xad\\xd9\\x8f\\xd9\\x87\\xd9\\x8f \\xd8\\xa7\\xd8\\xa8\\xd9\\x92\\xd8\\xaa\\xd9\\x90\\xd8\\xaf\\xd9\\x8e\\xd8\\xa7\\xd8\\xa1\\xd9\\x8b \\xd9\\x88\\xd9\\x8e\\xd9\\x84\\xd9\\x8e\\xd8\\xb2\\xd9\\x90\\xd9\\x85\\xd9\\x8e \\xd8\\xb5\\xd9\\x8f\\xd9\\x84\\xd9\\x92\\xd8\\xad\\xd9\\x8f\\xd9\\x87\\xd9\\x8f \\xd8\\xa8\\xd9\\x8e\\xd8\\xb9\\xd9\\x92\\xd8\\xaf\\xd9\\x8e \\xd9\\x88\\xd9\\x8f\\xd9\\x82\\xd9\\x8f\\xd9\\x88\\xd8\\xb9\\xd9\\x90\\xd9\\x87\\xd9\\x90 \\xd9\\x81\\xd9\\x8e\\xd9\\x84\\xd9\\x8e\\xd9\\x8a\\xd9\\x92\\xd8\\xb3\\xd9\\x8e \\xd9\\x84\\xd9\\x90\\xd9\\x88\\xd9\\x8e\\xd8\\xa7\\xd8\\xb1\\xd9\\x90\\xd8\\xab\\xd9\\x90\\xd9\\x87\\xd9\\x90 \\xd9\\x86\\xd9\\x8e\\xd9\\x82\\xd9\\x92\\xd8\\xb6\\xd9\\x8f\\xd9\\x87\\xd9\\x8f \\xd8\\xa5\\xd8\\xb0\\xd9\\x92 \\xd9\\x84\\xd9\\x90\\xd9\\x84\\xd9\\x92\\xd9\\x85\\xd9\\x8e\\xd8\\xb1\\xd9\\x90\\xd9\\x8a\\xd8\\xb6\\xd9\\x90 \\xd8\\xa7\\xd9\\x84\\xd9\\x92\\xd8\\xb9\\xd9\\x8e\\xd9\\x81\\xd9\\x92\\xd9\\x88\\xd9\\x8f \\xd8\\xb9\\xd9\\x8e\\xd9\\x86\\xd9\\x92 \\xd8\\xac\\xd9\\x8e\\xd8\\xa7\\xd8\\xb1\\xd9\\x90\\xd8\\xad\\xd9\\x90\\xd9\\x87\\xd9\\x90 \\xd8\\xb9\\xd9\\x8e\\xd9\\x85\\xd9\\x92\\xd8\\xaf\\xd9\\x8b\\xd8\\xa7 \\xd8\\xb9\\xd9\\x8f\\xd8\\xaf\\xd9\\x92\\xd9\\x88\\xd9\\x8e\\xd8\\xa7\\xd9\\x86\\xd9\\x8b\\xd8\\xa7 \\xd9\\x85\\xd9\\x8e\\xd8\\xac\\xd9\\x91\\xd9\\x8e\\xd8\\xa7\\xd9\\x86\\xd9\\x8b\\xd8\\xa7 \\xd9\\x88\\xd9\\x8e\\xd8\\xa5\\xd9\\x90\\xd9\\x86\\xd9\\x92 \\xd9\\x84\\xd9\\x8e\\xd9\\x85\\xd9\\x92 \\xd9\\x8a\\xd9\\x8e\\xd9\\x83\\xd9\\x8f\\xd9\\x86\\xd9\\x92 \\xd9\\x84\\xd9\\x8e\\xd9\\x87\\xd9\\x8f \\xd9\\x85\\xd9\\x8e\\xd8\\xa7\\xd9\\x84\\xd9\\x8c'>"
      ]
     },
     "execution_count": 9,
     "metadata": {},
     "output_type": "execute_result"
    }
   ],
   "source": [
    "sample = next(iter(ca_train_raw))\n",
    "sample"
   ]
  },
  {
   "cell_type": "code",
   "execution_count": 10,
   "metadata": {},
   "outputs": [
    {
     "data": {
      "text/plain": [
       "'وَفِي بَعْضِ النُّسَخِ بِالْإِضَافَةِ فَصَالَحَ الرَّجُلُ الْمَرِيضَ عَلَى جُرْحِهِ فِي حَالِ مَرَضِهِ مِنْ الْجُرْحِ بِ مَالٍ قَدْرِ أَرْشِهِ أَيْ دِيَةِ الْجُرْحِ أَوْ غَيْرِهِ أَيْ الْأَرْشِ صَادِقٌ بِأَقَلَّ وَأَكْثَرَ مِنْهُ ثُمَّ مَاتَ الْمَرِيضُ مِنْ مَرَضِهِ مِنْ ذَلِكَ الْجُرْحِ جَازَ صُلْحُهُ ابْتِدَاءً وَلَزِمَ صُلْحُهُ بَعْدَ وُقُوعِهِ فَلَيْسَ لِوَارِثِهِ نَقْضُهُ إذْ لِلْمَرِيضِ الْعَفْوُ عَنْ جَارِحِهِ عَمْدًا عُدْوَانًا مَجَّانًا وَإِنْ لَمْ يَكُنْ لَهُ مَالٌ'"
      ]
     },
     "execution_count": 10,
     "metadata": {},
     "output_type": "execute_result"
    }
   ],
   "source": [
    "sample.numpy().decode('utf-8')"
   ]
  },
  {
   "cell_type": "code",
   "execution_count": 11,
   "metadata": {},
   "outputs": [],
   "source": [
    "ca_train = data_loader.process_ds(ca_train_raw)\n",
    "ca_val = data_loader.process_ds(ca_val_raw)\n",
    "ca_test = data_loader.process_ds(ca_test_raw)\n",
    "\n",
    "msa_train = data_loader.process_ds(msa_train_raw)\n",
    "msa_val = data_loader.process_ds(msa_val_raw)\n",
    "msa_test = data_loader.process_ds(msa_test_raw)"
   ]
  },
  {
   "cell_type": "code",
   "execution_count": 14,
   "metadata": {},
   "outputs": [
    {
     "data": {
      "text/plain": [
       "<_PrefetchDataset element_spec=(TensorSpec(shape=(None, None), dtype=tf.int64, name=None), TensorSpec(shape=(None, None), dtype=tf.int64, name=None))>"
      ]
     },
     "execution_count": 14,
     "metadata": {},
     "output_type": "execute_result"
    }
   ],
   "source": [
    "msa_train"
   ]
  },
  {
   "cell_type": "code",
   "execution_count": 15,
   "metadata": {},
   "outputs": [],
   "source": [
    "sen, diac = next(iter(msa_train))"
   ]
  },
  {
   "cell_type": "code",
   "execution_count": 16,
   "metadata": {},
   "outputs": [
    {
     "data": {
      "text/plain": [
       "<tf.Tensor: shape=(32, 262), dtype=int64, numpy=\n",
       "array([[ 3, 36, 23, ...,  0,  0,  0],\n",
       "       [ 3, 31, 24, ...,  0,  0,  0],\n",
       "       [ 3, 38, 32, ...,  0,  0,  0],\n",
       "       ...,\n",
       "       [ 3, 11, 34, ...,  0,  0,  0],\n",
       "       [ 3,  9, 34, ...,  0,  0,  0],\n",
       "       [ 3, 38, 16, ...,  0,  0,  0]], dtype=int64)>"
      ]
     },
     "execution_count": 16,
     "metadata": {},
     "output_type": "execute_result"
    }
   ],
   "source": [
    "sen"
   ]
  },
  {
   "cell_type": "code",
   "execution_count": 17,
   "metadata": {},
   "outputs": [
    {
     "data": {
      "text/plain": [
       "<tf.Tensor: shape=(32, 262), dtype=int64, numpy=\n",
       "array([[ 2,  7,  3, ...,  0,  0,  0],\n",
       "       [ 2,  8,  7, ...,  0,  0,  0],\n",
       "       [ 2,  8,  8, ...,  0,  0,  0],\n",
       "       ...,\n",
       "       [ 2,  2, 15, ...,  0,  0,  0],\n",
       "       [ 2,  7,  8, ...,  0,  0,  0],\n",
       "       [ 2,  8,  8, ...,  0,  0,  0]], dtype=int64)>"
      ]
     },
     "execution_count": 17,
     "metadata": {},
     "output_type": "execute_result"
    }
   ],
   "source": [
    "diac"
   ]
  },
  {
   "cell_type": "code",
   "execution_count": 19,
   "metadata": {},
   "outputs": [],
   "source": [
    "diacritizer = Diacritizer(None, letters_tok, diac_tok)"
   ]
  },
  {
   "cell_type": "code",
   "execution_count": 20,
   "metadata": {},
   "outputs": [],
   "source": [
    "dec_sen = diacritizer.decode_sentences(sen)\n",
    "dec_diac = diacritizer.decode_diacritics(diac)"
   ]
  },
  {
   "cell_type": "code",
   "execution_count": 21,
   "metadata": {},
   "outputs": [
    {
     "data": {
      "text/plain": [
       "'نسبة إلى الكعك الذي تملك هذا الحيز منه'"
      ]
     },
     "execution_count": 21,
     "metadata": {},
     "output_type": "execute_result"
    }
   ],
   "source": [
    "\"\".join(dec_sen[0])[1:-1]"
   ]
  },
  {
   "cell_type": "code",
   "execution_count": 22,
   "metadata": {},
   "outputs": [
    {
     "data": {
      "text/plain": [
       "'ًَِْ  َ   َِْْ  َِّ  َُِْ ََ   ََِّْ ُِْ'"
      ]
     },
     "execution_count": 22,
     "metadata": {},
     "output_type": "execute_result"
    }
   ],
   "source": [
    "\"\".join(dec_diac[0])[1:-1]"
   ]
  },
  {
   "cell_type": "code",
   "execution_count": 23,
   "metadata": {},
   "outputs": [
    {
     "data": {
      "text/plain": [
       "'نِسْبَةً إلَى الْكَعْكِ الَّذِي تَمْلِكُ هَذَا الْحَيِّزَ مِنْهُ'"
      ]
     },
     "execution_count": 23,
     "metadata": {},
     "output_type": "execute_result"
    }
   ],
   "source": [
    "eof_idx = dec_sen[0].index('e')\n",
    "Preprocessor.combine_tashkeel(dec_sen[0][1:eof_idx], dec_diac[0][1:eof_idx])"
   ]
  },
  {
   "cell_type": "markdown",
   "metadata": {},
   "source": []
  },
  {
   "cell_type": "code",
   "execution_count": 24,
   "metadata": {},
   "outputs": [],
   "source": [
    "from models.rnn_model import RNNModel"
   ]
  },
  {
   "cell_type": "code",
   "execution_count": 25,
   "metadata": {},
   "outputs": [],
   "source": [
    "model = RNNModel(embedding_dims=128, rnn_type='lstm', rnn_layers=2, rnn_units=128, dense_layers=1, dense_units=512)"
   ]
  },
  {
   "cell_type": "code",
   "execution_count": null,
   "metadata": {},
   "outputs": [],
   "source": [
    "def create_model():\n",
    "    inputs = keras.layers.Input(shape=(None,), dtype=tf.int64)\n",
    "    x = keras.layers.Embedding(len(letters_tok.get_vocabulary())+1, 128, mask_zero=True)(inputs)\n",
    "    x = keras.layers.Bidirectional(keras.layers.LSTM(128, return_sequences=True, dropout=0.4))(x)\n",
    "    x = keras.layers.Bidirectional(keras.layers.LSTM(128, return_sequences=True, dropout=0.4))(x)\n",
    "    x = keras.layers.Dense(512, activation='relu')(x)\n",
    "    x = keras.layers.Dense(len(diac_tok.get_vocabulary())+1, activation='relu')(x)\n",
    "    model = keras.models.Model(inputs, x)\n",
    "    return model"
   ]
  },
  {
   "cell_type": "code",
   "execution_count": null,
   "metadata": {},
   "outputs": [],
   "source": [
    "model = create_model()"
   ]
  },
  {
   "cell_type": "code",
   "execution_count": 26,
   "metadata": {},
   "outputs": [],
   "source": [
    "model.compile(optimizer=keras.optimizers.Adam(0.001), loss=masked_loss)"
   ]
  },
  {
   "cell_type": "code",
   "execution_count": 27,
   "metadata": {},
   "outputs": [],
   "source": [
    "model.build(input_shape=(None, None))"
   ]
  },
  {
   "cell_type": "code",
   "execution_count": 28,
   "metadata": {},
   "outputs": [
    {
     "data": {
      "text/html": [
       "<pre style=\"white-space:pre;overflow-x:auto;line-height:normal;font-family:Menlo,'DejaVu Sans Mono',consolas,'Courier New',monospace\"><span style=\"font-weight: bold\">Model: \"rnn_model\"</span>\n",
       "</pre>\n"
      ],
      "text/plain": [
       "\u001b[1mModel: \"rnn_model\"\u001b[0m\n"
      ]
     },
     "metadata": {},
     "output_type": "display_data"
    },
    {
     "data": {
      "text/html": [
       "<pre style=\"white-space:pre;overflow-x:auto;line-height:normal;font-family:Menlo,'DejaVu Sans Mono',consolas,'Courier New',monospace\">┏━━━━━━━━━━━━━━━━━━━━━━━━━━━━━━━━━┳━━━━━━━━━━━━━━━━━━━━━━━━┳━━━━━━━━━━━━━━━┓\n",
       "┃<span style=\"font-weight: bold\"> Layer (type)                    </span>┃<span style=\"font-weight: bold\"> Output Shape           </span>┃<span style=\"font-weight: bold\">       Param # </span>┃\n",
       "┡━━━━━━━━━━━━━━━━━━━━━━━━━━━━━━━━━╇━━━━━━━━━━━━━━━━━━━━━━━━╇━━━━━━━━━━━━━━━┩\n",
       "│ embedding (<span style=\"color: #0087ff; text-decoration-color: #0087ff\">Embedding</span>)           │ ?                      │         <span style=\"color: #00af00; text-decoration-color: #00af00\">5,376</span> │\n",
       "├─────────────────────────────────┼────────────────────────┼───────────────┤\n",
       "│ bidirectional (<span style=\"color: #0087ff; text-decoration-color: #0087ff\">Bidirectional</span>)   │ ?                      │       <span style=\"color: #00af00; text-decoration-color: #00af00\">263,168</span> │\n",
       "├─────────────────────────────────┼────────────────────────┼───────────────┤\n",
       "│ bidirectional_1 (<span style=\"color: #0087ff; text-decoration-color: #0087ff\">Bidirectional</span>) │ ?                      │       <span style=\"color: #00af00; text-decoration-color: #00af00\">394,240</span> │\n",
       "├─────────────────────────────────┼────────────────────────┼───────────────┤\n",
       "│ dense (<span style=\"color: #0087ff; text-decoration-color: #0087ff\">Dense</span>)                   │ ?                      │       <span style=\"color: #00af00; text-decoration-color: #00af00\">131,584</span> │\n",
       "├─────────────────────────────────┼────────────────────────┼───────────────┤\n",
       "│ dense_1 (<span style=\"color: #0087ff; text-decoration-color: #0087ff\">Dense</span>)                 │ ?                      │         <span style=\"color: #00af00; text-decoration-color: #00af00\">9,234</span> │\n",
       "└─────────────────────────────────┴────────────────────────┴───────────────┘\n",
       "</pre>\n"
      ],
      "text/plain": [
       "┏━━━━━━━━━━━━━━━━━━━━━━━━━━━━━━━━━┳━━━━━━━━━━━━━━━━━━━━━━━━┳━━━━━━━━━━━━━━━┓\n",
       "┃\u001b[1m \u001b[0m\u001b[1mLayer (type)                   \u001b[0m\u001b[1m \u001b[0m┃\u001b[1m \u001b[0m\u001b[1mOutput Shape          \u001b[0m\u001b[1m \u001b[0m┃\u001b[1m \u001b[0m\u001b[1m      Param #\u001b[0m\u001b[1m \u001b[0m┃\n",
       "┡━━━━━━━━━━━━━━━━━━━━━━━━━━━━━━━━━╇━━━━━━━━━━━━━━━━━━━━━━━━╇━━━━━━━━━━━━━━━┩\n",
       "│ embedding (\u001b[38;5;33mEmbedding\u001b[0m)           │ ?                      │         \u001b[38;5;34m5,376\u001b[0m │\n",
       "├─────────────────────────────────┼────────────────────────┼───────────────┤\n",
       "│ bidirectional (\u001b[38;5;33mBidirectional\u001b[0m)   │ ?                      │       \u001b[38;5;34m263,168\u001b[0m │\n",
       "├─────────────────────────────────┼────────────────────────┼───────────────┤\n",
       "│ bidirectional_1 (\u001b[38;5;33mBidirectional\u001b[0m) │ ?                      │       \u001b[38;5;34m394,240\u001b[0m │\n",
       "├─────────────────────────────────┼────────────────────────┼───────────────┤\n",
       "│ dense (\u001b[38;5;33mDense\u001b[0m)                   │ ?                      │       \u001b[38;5;34m131,584\u001b[0m │\n",
       "├─────────────────────────────────┼────────────────────────┼───────────────┤\n",
       "│ dense_1 (\u001b[38;5;33mDense\u001b[0m)                 │ ?                      │         \u001b[38;5;34m9,234\u001b[0m │\n",
       "└─────────────────────────────────┴────────────────────────┴───────────────┘\n"
      ]
     },
     "metadata": {},
     "output_type": "display_data"
    },
    {
     "data": {
      "text/html": [
       "<pre style=\"white-space:pre;overflow-x:auto;line-height:normal;font-family:Menlo,'DejaVu Sans Mono',consolas,'Courier New',monospace\"><span style=\"font-weight: bold\"> Total params: </span><span style=\"color: #00af00; text-decoration-color: #00af00\">803,602</span> (3.07 MB)\n",
       "</pre>\n"
      ],
      "text/plain": [
       "\u001b[1m Total params: \u001b[0m\u001b[38;5;34m803,602\u001b[0m (3.07 MB)\n"
      ]
     },
     "metadata": {},
     "output_type": "display_data"
    },
    {
     "data": {
      "text/html": [
       "<pre style=\"white-space:pre;overflow-x:auto;line-height:normal;font-family:Menlo,'DejaVu Sans Mono',consolas,'Courier New',monospace\"><span style=\"font-weight: bold\"> Trainable params: </span><span style=\"color: #00af00; text-decoration-color: #00af00\">803,602</span> (3.07 MB)\n",
       "</pre>\n"
      ],
      "text/plain": [
       "\u001b[1m Trainable params: \u001b[0m\u001b[38;5;34m803,602\u001b[0m (3.07 MB)\n"
      ]
     },
     "metadata": {},
     "output_type": "display_data"
    },
    {
     "data": {
      "text/html": [
       "<pre style=\"white-space:pre;overflow-x:auto;line-height:normal;font-family:Menlo,'DejaVu Sans Mono',consolas,'Courier New',monospace\"><span style=\"font-weight: bold\"> Non-trainable params: </span><span style=\"color: #00af00; text-decoration-color: #00af00\">0</span> (0.00 B)\n",
       "</pre>\n"
      ],
      "text/plain": [
       "\u001b[1m Non-trainable params: \u001b[0m\u001b[38;5;34m0\u001b[0m (0.00 B)\n"
      ]
     },
     "metadata": {},
     "output_type": "display_data"
    }
   ],
   "source": [
    "model.summary()"
   ]
  },
  {
   "cell_type": "code",
   "execution_count": 30,
   "metadata": {},
   "outputs": [
    {
     "name": "stdout",
     "output_type": "stream",
     "text": [
      "Epoch 1/2\n"
     ]
    },
    {
     "name": "stdout",
     "output_type": "stream",
     "text": [
      "\u001b[1m200/200\u001b[0m \u001b[32m━━━━━━━━━━━━━━━━━━━━\u001b[0m\u001b[37m\u001b[0m \u001b[1m87s\u001b[0m 389ms/step - loss: 1.6180 - val_loss: 0.7215\n",
      "Epoch 2/2\n",
      "\u001b[1m200/200\u001b[0m \u001b[32m━━━━━━━━━━━━━━━━━━━━\u001b[0m\u001b[37m\u001b[0m \u001b[1m72s\u001b[0m 361ms/step - loss: 0.6398 - val_loss: 0.4669\n"
     ]
    },
    {
     "data": {
      "text/plain": [
       "<keras.src.callbacks.history.History at 0x26ad9d6be60>"
      ]
     },
     "execution_count": 30,
     "metadata": {},
     "output_type": "execute_result"
    }
   ],
   "source": [
    "model.fit(\n",
    "    msa_train.repeat(),\n",
    "    steps_per_epoch=200,\n",
    "    validation_data=msa_val,\n",
    "    epochs=2,\n",
    "    )"
   ]
  },
  {
   "cell_type": "code",
   "execution_count": 31,
   "metadata": {},
   "outputs": [
    {
     "name": "stdout",
     "output_type": "stream",
     "text": [
      "\u001b[1m47/47\u001b[0m \u001b[32m━━━━━━━━━━━━━━━━━━━━\u001b[0m\u001b[37m\u001b[0m \u001b[1m6s\u001b[0m 119ms/step - loss: 0.4700\n"
     ]
    },
    {
     "data": {
      "text/plain": [
       "0.4669398069381714"
      ]
     },
     "execution_count": 31,
     "metadata": {},
     "output_type": "execute_result"
    }
   ],
   "source": [
    "model.evaluate(msa_test)"
   ]
  },
  {
   "cell_type": "code",
   "execution_count": 32,
   "metadata": {},
   "outputs": [],
   "source": [
    "smp = next(iter(msa_test))"
   ]
  },
  {
   "cell_type": "code",
   "execution_count": 33,
   "metadata": {},
   "outputs": [
    {
     "data": {
      "text/plain": [
       "(<tf.Tensor: shape=(32, 186), dtype=int64, numpy=\n",
       " array([[ 3, 38, 33, ...,  0,  0,  0],\n",
       "        [ 3, 40, 37, ...,  0,  0,  0],\n",
       "        [ 3, 34, 40, ...,  0,  0,  0],\n",
       "        ...,\n",
       "        [ 3, 35, 29, ...,  0,  0,  0],\n",
       "        [ 3, 38, 12, ...,  0,  0,  0],\n",
       "        [ 3,  7, 40, ...,  0,  0,  0]], dtype=int64)>,\n",
       " <tf.Tensor: shape=(32, 186), dtype=int64, numpy=\n",
       " array([[2, 8, 8, ..., 0, 0, 0],\n",
       "        [2, 8, 3, ..., 0, 0, 0],\n",
       "        [2, 7, 8, ..., 0, 0, 0],\n",
       "        ...,\n",
       "        [2, 8, 8, ..., 0, 0, 0],\n",
       "        [2, 8, 7, ..., 0, 0, 0],\n",
       "        [2, 8, 7, ..., 0, 0, 0]], dtype=int64)>)"
      ]
     },
     "execution_count": 33,
     "metadata": {},
     "output_type": "execute_result"
    }
   ],
   "source": [
    "smp"
   ]
  },
  {
   "cell_type": "code",
   "execution_count": 34,
   "metadata": {},
   "outputs": [],
   "source": [
    "res = model(smp[0])"
   ]
  },
  {
   "cell_type": "code",
   "execution_count": 36,
   "metadata": {},
   "outputs": [],
   "source": [
    "decoded_sentences = diacritizer.decode_sentences(smp[0])\n",
    "decoded_diacritics = diacritizer.decode_diacritics(smp[1])\n",
    "decoded_diacritics_p = diacritizer.decode_diacritics(tf.argmax(res, -1))"
   ]
  },
  {
   "cell_type": "code",
   "execution_count": 37,
   "metadata": {},
   "outputs": [],
   "source": [
    "idx = 4"
   ]
  },
  {
   "cell_type": "code",
   "execution_count": 38,
   "metadata": {},
   "outputs": [
    {
     "data": {
      "text/plain": [
       "('والأحمر يمينه والأسود على الطريق من المدينة إلى بريدة والأحمر يناظره من الجنوب',\n",
       " 144)"
      ]
     },
     "execution_count": 38,
     "metadata": {},
     "output_type": "execute_result"
    }
   ],
   "source": [
    "sen = tf.strings.reduce_join(decoded_sentences[idx], axis=-1).numpy()[1:-1]\n",
    "sen.decode('utf-8'), len(sen)"
   ]
  },
  {
   "cell_type": "code",
   "execution_count": 39,
   "metadata": {},
   "outputs": [
    {
     "data": {
      "text/plain": [
       "'وَالْأَحْمَرَ يَمِينَهُ وَالْأَسْوَدُ عَلَى الطَّرِيقِ مِنْ الْمَدِينَةِ إلَى بُرَيْدَةَ وَالْأَحْمَرُ يُنَاظِرُهُ مِنْ الْجُنُوبِ'"
      ]
     },
     "execution_count": 39,
     "metadata": {},
     "output_type": "execute_result"
    }
   ],
   "source": [
    "a = Preprocessor.combine_tashkeel(decoded_sentences[idx][1:decoded_sentences[idx].index('e')], decoded_diacritics[idx][1:decoded_sentences[idx].index('e')])\n",
    "a"
   ]
  },
  {
   "cell_type": "code",
   "execution_count": 40,
   "metadata": {},
   "outputs": [
    {
     "data": {
      "text/plain": [
       "'وَالْأَحْمَرُ يَمِينَهُ وَالْأَسُودُ عَلَى الطَّرِيقِ مِنَ الْمَدِينَةِ إِلَى بَرِيدَةً وَالْأَحْمَرِ يَنَاظَرُهُ مِنَ الْجُنُوبِ'"
      ]
     },
     "execution_count": 40,
     "metadata": {},
     "output_type": "execute_result"
    }
   ],
   "source": [
    "b = Preprocessor.combine_tashkeel(decoded_sentences[idx][1:decoded_sentences[idx].index('e')], decoded_diacritics_p[idx][1:decoded_sentences[idx].index('e')])\n",
    "b"
   ]
  },
  {
   "cell_type": "code",
   "execution_count": null,
   "metadata": {},
   "outputs": [],
   "source": [
    "from diacritization_evaluation import wer, der"
   ]
  },
  {
   "cell_type": "code",
   "execution_count": null,
   "metadata": {},
   "outputs": [],
   "source": [
    "def calculate_metrics(model, ds):\n",
    "    # Works on batched datasets only\n",
    "    def combine_per_sen(sen, diac):\n",
    "        eof_idx = sen.index('e')\n",
    "        res = Preprocessor.combine_tashkeel(sen[1:eof_idx], diac[1:eof_idx])\n",
    "        return res\n",
    "    \n",
    "    ds_len = (len(ds) * ds._batch_size.numpy())\n",
    "    res = {\"wer\":0, \"wer*\":0, \"der\":0, \"der*\":0}\n",
    "    for sen, diac in tqdm(ds):\n",
    "        preds = model(sen)\n",
    "        decoded_sentences = decode_sentences(sen)\n",
    "        decoded_diacritics_t = decode_diacritics(diac)\n",
    "        decoded_diacritics_p = decode_diacritics(tf.argmax(preds, -1))\n",
    "        idx = 0\n",
    "        while idx < len(decoded_sentences):\n",
    "            true_diac = combine_per_sen(decoded_sentences[idx], decoded_diacritics_t[idx])\n",
    "            pred_diac = combine_per_sen(decoded_sentences[idx], decoded_diacritics_p[idx])\n",
    "            res[\"wer\"] += wer.calculate_wer(true_diac, pred_diac) / ds_len\n",
    "            res[\"wer*\"] += wer.calculate_wer(true_diac, pred_diac, case_ending=False) / ds_len\n",
    "            res[\"der\"] += der.calculate_der(true_diac, pred_diac) / ds_len\n",
    "            res[\"der*\"] += der.calculate_der(true_diac, pred_diac, case_ending=False) / ds_len\n",
    "            idx+=1\n",
    "    \n",
    "    return res"
   ]
  },
  {
   "cell_type": "code",
   "execution_count": null,
   "metadata": {},
   "outputs": [
    {
     "name": "stderr",
     "output_type": "stream",
     "text": [
      "100%|██████████| 47/47 [02:10<00:00,  2.78s/it]\n"
     ]
    }
   ],
   "source": [
    "res=calculate_metrics(model, msa_test)"
   ]
  },
  {
   "cell_type": "code",
   "execution_count": null,
   "metadata": {},
   "outputs": [
    {
     "data": {
      "text/plain": [
       "{'wer': 37.763051861702166,\n",
       " 'wer*': 25.14950797872337,\n",
       " 'der': 10.22831117021276,\n",
       " 'der*': 8.052779255319125}"
      ]
     },
     "execution_count": 279,
     "metadata": {},
     "output_type": "execute_result"
    },
    {
     "ename": "",
     "evalue": "",
     "output_type": "error",
     "traceback": [
      "\u001b[1;31mThe Kernel crashed while executing code in the current cell or a previous cell. \n",
      "\u001b[1;31mPlease review the code in the cell(s) to identify a possible cause of the failure. \n",
      "\u001b[1;31mClick <a href='https://aka.ms/vscodeJupyterKernelCrash'>here</a> for more info. \n",
      "\u001b[1;31mView Jupyter <a href='command:jupyter.viewOutput'>log</a> for further details."
     ]
    }
   ],
   "source": [
    "res"
   ]
  },
  {
   "cell_type": "code",
   "execution_count": null,
   "metadata": {},
   "outputs": [],
   "source": []
  }
 ],
 "metadata": {
  "kernelspec": {
   "display_name": "Shakkel",
   "language": "python",
   "name": "shakkel"
  },
  "language_info": {
   "codemirror_mode": {
    "name": "ipython",
    "version": 3
   },
   "file_extension": ".py",
   "mimetype": "text/x-python",
   "name": "python",
   "nbconvert_exporter": "python",
   "pygments_lexer": "ipython3",
   "version": "3.12.3"
  }
 },
 "nbformat": 4,
 "nbformat_minor": 2
}
