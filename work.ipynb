{
 "cells": [
  {
   "cell_type": "code",
   "execution_count": 1,
   "metadata": {},
   "outputs": [],
   "source": [
    "import tensorflow as tf\n",
    "import keras\n",
    "from utils import constants\n",
    "from utils.preprocessor import Preprocessor\n",
    "from tqdm import tqdm\n",
    "import matplotlib.pyplot as plt\n",
    "import pandas as pd\n",
    "import numpy as np\n",
    "from modules.data_loader import DataLoader\n",
    "from modules.losses import masked_loss\n",
    "from modules.diacritizer import Diacritizer\n",
    "from modules.trainer import Trainer\n",
    "import yaml\n",
    "from models.rnn_model import RNNModel\n",
    "\n",
    "keras.utils.set_random_seed(2024)"
   ]
  },
  {
   "cell_type": "code",
   "execution_count": 47,
   "metadata": {},
   "outputs": [],
   "source": [
    "ca_train_df, ca_val_df, ca_test_df = pd.read_csv('./dataset/Tashkeela-clean/CA/CA_train.csv'), pd.read_csv('./dataset/Tashkeela-clean/CA/CA_val.csv'), pd.read_csv('./dataset/Tashkeela-clean/CA/CA_test.csv')\n",
    "msa_train_df, msa_val_df, msa_test_df = pd.read_csv('./dataset/Tashkeela-clean/MSA/MSA_train.csv'), pd.read_csv('./dataset/Tashkeela-clean/MSA/MSA_val.csv'), pd.read_csv('./dataset/Tashkeela-clean/MSA/MSA_test.csv')"
   ]
  },
  {
   "cell_type": "code",
   "execution_count": 48,
   "metadata": {},
   "outputs": [
    {
     "data": {
      "text/html": [
       "<div>\n",
       "<style scoped>\n",
       "    .dataframe tbody tr th:only-of-type {\n",
       "        vertical-align: middle;\n",
       "    }\n",
       "\n",
       "    .dataframe tbody tr th {\n",
       "        vertical-align: top;\n",
       "    }\n",
       "\n",
       "    .dataframe thead th {\n",
       "        text-align: right;\n",
       "    }\n",
       "</style>\n",
       "<table border=\"1\" class=\"dataframe\">\n",
       "  <thead>\n",
       "    <tr style=\"text-align: right;\">\n",
       "      <th></th>\n",
       "      <th>text</th>\n",
       "      <th>words</th>\n",
       "      <th>chars</th>\n",
       "      <th>chars_no_diac</th>\n",
       "    </tr>\n",
       "  </thead>\n",
       "  <tbody>\n",
       "    <tr>\n",
       "      <th>0</th>\n",
       "      <td>وَفِي بَعْضِ النُّسَخِ بِالْإِضَافَةِ فَصَالَح...</td>\n",
       "      <td>60</td>\n",
       "      <td>479</td>\n",
       "      <td>285</td>\n",
       "    </tr>\n",
       "    <tr>\n",
       "      <th>1</th>\n",
       "      <td>غَيْرِ وَلِيِّ مَنْ ذُكِرَ دَفْعُ سِنٍّ أَعْلَ...</td>\n",
       "      <td>14</td>\n",
       "      <td>100</td>\n",
       "      <td>60</td>\n",
       "    </tr>\n",
       "    <tr>\n",
       "      <th>2</th>\n",
       "      <td>وَمِمَّنْ حَكَى أَنْ يُعَلِّمُ بِمَعْنَى أَعْل...</td>\n",
       "      <td>9</td>\n",
       "      <td>90</td>\n",
       "      <td>51</td>\n",
       "    </tr>\n",
       "    <tr>\n",
       "      <th>3</th>\n",
       "      <td>وَيَخْرُجُ بِتَعْبِيرِ الْمَالِ الْمَنْفَعَةُ ...</td>\n",
       "      <td>15</td>\n",
       "      <td>156</td>\n",
       "      <td>91</td>\n",
       "    </tr>\n",
       "    <tr>\n",
       "      <th>4</th>\n",
       "      <td>زَوْجَانِ كَافِرَانِ أَسْلَمَتْ الْمَرْأَةُ وَ...</td>\n",
       "      <td>28</td>\n",
       "      <td>248</td>\n",
       "      <td>145</td>\n",
       "    </tr>\n",
       "    <tr>\n",
       "      <th>...</th>\n",
       "      <td>...</td>\n",
       "      <td>...</td>\n",
       "      <td>...</td>\n",
       "      <td>...</td>\n",
       "    </tr>\n",
       "    <tr>\n",
       "      <th>2365073</th>\n",
       "      <td>إنْ ظَهَرَتْ قَرِينَةٌ تُقَوِّي صِدْقَ السَّيّ...</td>\n",
       "      <td>25</td>\n",
       "      <td>202</td>\n",
       "      <td>117</td>\n",
       "    </tr>\n",
       "    <tr>\n",
       "      <th>2365074</th>\n",
       "      <td>لِأَنَّهُ يُعَارِضُ ظَاهِرَ الزَّوْجِ بِالْيَد...</td>\n",
       "      <td>8</td>\n",
       "      <td>70</td>\n",
       "      <td>41</td>\n",
       "    </tr>\n",
       "    <tr>\n",
       "      <th>2365075</th>\n",
       "      <td>وَإِلَّا لَمْ يَقَعْ فَرْضًا وَلَا نَفْلًا قَا...</td>\n",
       "      <td>9</td>\n",
       "      <td>73</td>\n",
       "      <td>43</td>\n",
       "    </tr>\n",
       "    <tr>\n",
       "      <th>2365076</th>\n",
       "      <td>رَوَاهُ مُسْلِمٌ فِى الصَّحِيحِ عَنْ عَمْرٍو ا...</td>\n",
       "      <td>9</td>\n",
       "      <td>70</td>\n",
       "      <td>43</td>\n",
       "    </tr>\n",
       "    <tr>\n",
       "      <th>2365077</th>\n",
       "      <td>لِأَنَّهُمْ لَمَّا نَزَّلُوا الْبَيْضَ مَنْزِل...</td>\n",
       "      <td>21</td>\n",
       "      <td>194</td>\n",
       "      <td>113</td>\n",
       "    </tr>\n",
       "  </tbody>\n",
       "</table>\n",
       "<p>2365078 rows × 4 columns</p>\n",
       "</div>"
      ],
      "text/plain": [
       "                                                      text  words  chars  \\\n",
       "0        وَفِي بَعْضِ النُّسَخِ بِالْإِضَافَةِ فَصَالَح...     60    479   \n",
       "1        غَيْرِ وَلِيِّ مَنْ ذُكِرَ دَفْعُ سِنٍّ أَعْلَ...     14    100   \n",
       "2        وَمِمَّنْ حَكَى أَنْ يُعَلِّمُ بِمَعْنَى أَعْل...      9     90   \n",
       "3        وَيَخْرُجُ بِتَعْبِيرِ الْمَالِ الْمَنْفَعَةُ ...     15    156   \n",
       "4        زَوْجَانِ كَافِرَانِ أَسْلَمَتْ الْمَرْأَةُ وَ...     28    248   \n",
       "...                                                    ...    ...    ...   \n",
       "2365073  إنْ ظَهَرَتْ قَرِينَةٌ تُقَوِّي صِدْقَ السَّيّ...     25    202   \n",
       "2365074  لِأَنَّهُ يُعَارِضُ ظَاهِرَ الزَّوْجِ بِالْيَد...      8     70   \n",
       "2365075  وَإِلَّا لَمْ يَقَعْ فَرْضًا وَلَا نَفْلًا قَا...      9     73   \n",
       "2365076  رَوَاهُ مُسْلِمٌ فِى الصَّحِيحِ عَنْ عَمْرٍو ا...      9     70   \n",
       "2365077  لِأَنَّهُمْ لَمَّا نَزَّلُوا الْبَيْضَ مَنْزِل...     21    194   \n",
       "\n",
       "         chars_no_diac  \n",
       "0                  285  \n",
       "1                   60  \n",
       "2                   51  \n",
       "3                   91  \n",
       "4                  145  \n",
       "...                ...  \n",
       "2365073            117  \n",
       "2365074             41  \n",
       "2365075             43  \n",
       "2365076             43  \n",
       "2365077            113  \n",
       "\n",
       "[2365078 rows x 4 columns]"
      ]
     },
     "execution_count": 48,
     "metadata": {},
     "output_type": "execute_result"
    }
   ],
   "source": [
    "ca_train_df"
   ]
  },
  {
   "cell_type": "code",
   "execution_count": 50,
   "metadata": {},
   "outputs": [],
   "source": [
    "txt = ca_train_df.text.iloc[0]"
   ]
  },
  {
   "cell_type": "code",
   "execution_count": 53,
   "metadata": {},
   "outputs": [],
   "source": [
    "a, b = Preprocessor.strip_tashkeel(txt)"
   ]
  },
  {
   "cell_type": "code",
   "execution_count": 55,
   "metadata": {},
   "outputs": [
    {
     "name": "stdout",
     "output_type": "stream",
     "text": [
      "['و', 'ف', 'ي', ' ', 'ب', 'ع', 'ض', ' ', 'ا', 'ل', 'ن', 'س', 'خ', ' ', 'ب', 'ا', 'ل', 'إ', 'ض', 'ا', 'ف', 'ة', ' ', 'ف', 'ص', 'ا', 'ل', 'ح', ' ', 'ا', 'ل', 'ر', 'ج', 'ل', ' ', 'ا', 'ل', 'م', 'ر', 'ي', 'ض', ' ', 'ع', 'ل', 'ى', ' ', 'ج', 'ر', 'ح', 'ه', ' ', 'ف', 'ي', ' ', 'ح', 'ا', 'ل', ' ', 'م', 'ر', 'ض', 'ه', ' ', 'م', 'ن', ' ', 'ا', 'ل', 'ج', 'ر', 'ح', ' ', 'ب', ' ', 'م', 'ا', 'ل', ' ', 'ق', 'د', 'ر', ' ', 'أ', 'ر', 'ش', 'ه', ' ', 'أ', 'ي', ' ', 'د', 'ي', 'ة', ' ', 'ا', 'ل', 'ج', 'ر', 'ح', ' ', 'أ', 'و', ' ', 'غ', 'ي', 'ر', 'ه', ' ', 'أ', 'ي', ' ', 'ا', 'ل', 'أ', 'ر', 'ش', ' ', 'ص', 'ا', 'د', 'ق', ' ', 'ب', 'أ', 'ق', 'ل', ' ', 'و', 'أ', 'ك', 'ث', 'ر', ' ', 'م', 'ن', 'ه', ' ', 'ث', 'م', ' ', 'م', 'ا', 'ت', ' ', 'ا', 'ل', 'م', 'ر', 'ي', 'ض', ' ', 'م', 'ن', ' ', 'م', 'ر', 'ض', 'ه', ' ', 'م', 'ن', ' ', 'ذ', 'ل', 'ك', ' ', 'ا', 'ل', 'ج', 'ر', 'ح', ' ', 'ج', 'ا', 'ز', ' ', 'ص', 'ل', 'ح', 'ه', ' ', 'ا', 'ب', 'ت', 'د', 'ا', 'ء', ' ', 'و', 'ل', 'ز', 'م', ' ', 'ص', 'ل', 'ح', 'ه', ' ', 'ب', 'ع', 'د', ' ', 'و', 'ق', 'و', 'ع', 'ه', ' ', 'ف', 'ل', 'ي', 'س', ' ', 'ل', 'و', 'ا', 'ر', 'ث', 'ه', ' ', 'ن', 'ق', 'ض', 'ه', ' ', 'إ', 'ذ', ' ', 'ل', 'ل', 'م', 'ر', 'ي', 'ض', ' ', 'ا', 'ل', 'ع', 'ف', 'و', ' ', 'ع', 'ن', ' ', 'ج', 'ا', 'ر', 'ح', 'ه', ' ', 'ع', 'م', 'د', 'ا', ' ', 'ع', 'د', 'و', 'ا', 'ن', 'ا', ' ', 'م', 'ج', 'ا', 'ن', 'ا', ' ', 'و', 'إ', 'ن', ' ', 'ل', 'م', ' ', 'ي', 'ك', 'ن', ' ', 'ل', 'ه', ' ', 'م', 'ا', 'ل']\n"
     ]
    }
   ],
   "source": [
    "print(a)"
   ]
  },
  {
   "cell_type": "code",
   "execution_count": 56,
   "metadata": {},
   "outputs": [
    {
     "name": "stdout",
     "output_type": "stream",
     "text": [
      "['َ', 'ِ', ' ', ' ', 'َ', 'ْ', 'ِ', ' ', ' ', ' ', 'ُّ', 'َ', 'ِ', ' ', 'ِ', ' ', 'ْ', 'ِ', 'َ', ' ', 'َ', 'ِ', ' ', 'َ', 'َ', ' ', 'َ', 'َ', ' ', ' ', ' ', 'َّ', 'ُ', 'ُ', ' ', ' ', 'ْ', 'َ', 'ِ', ' ', 'َ', ' ', 'َ', 'َ', ' ', ' ', 'ُ', 'ْ', 'ِ', 'ِ', ' ', 'ِ', ' ', ' ', 'َ', ' ', 'ِ', ' ', 'َ', 'َ', 'ِ', 'ِ', ' ', 'ِ', 'ْ', ' ', ' ', 'ْ', 'ُ', 'ْ', 'ِ', ' ', 'ِ', ' ', 'َ', ' ', 'ٍ', ' ', 'َ', 'ْ', 'ِ', ' ', 'َ', 'ْ', 'ِ', 'ِ', ' ', 'َ', 'ْ', ' ', 'ِ', 'َ', 'ِ', ' ', ' ', 'ْ', 'ُ', 'ْ', 'ِ', ' ', 'َ', 'ْ', ' ', 'َ', 'ْ', 'ِ', 'ِ', ' ', 'َ', 'ْ', ' ', ' ', 'ْ', 'َ', 'ْ', 'ِ', ' ', 'َ', ' ', 'ِ', 'ٌ', ' ', 'ِ', 'َ', 'َ', 'َّ', ' ', 'َ', 'َ', 'ْ', 'َ', 'َ', ' ', 'ِ', 'ْ', 'ُ', ' ', 'ُ', 'َّ', ' ', 'َ', ' ', 'َ', ' ', ' ', 'ْ', 'َ', 'ِ', ' ', 'ُ', ' ', 'ِ', 'ْ', ' ', 'َ', 'َ', 'ِ', 'ِ', ' ', 'ِ', 'ْ', ' ', 'َ', 'ِ', 'َ', ' ', ' ', 'ْ', 'ُ', 'ْ', 'ِ', ' ', 'َ', ' ', 'َ', ' ', 'ُ', 'ْ', 'ُ', 'ُ', ' ', ' ', 'ْ', 'ِ', 'َ', ' ', 'ً', ' ', 'َ', 'َ', 'ِ', 'َ', ' ', 'ُ', 'ْ', 'ُ', 'ُ', ' ', 'َ', 'ْ', 'َ', ' ', 'ُ', 'ُ', ' ', 'ِ', 'ِ', ' ', 'َ', 'َ', 'ْ', 'َ', ' ', 'ِ', 'َ', ' ', 'ِ', 'ِ', 'ِ', ' ', 'َ', 'ْ', 'ُ', 'ُ', ' ', ' ', 'ْ', ' ', 'ِ', 'ْ', 'َ', 'ِ', ' ', 'ِ', ' ', ' ', 'ْ', 'َ', 'ْ', 'ُ', ' ', 'َ', 'ْ', ' ', 'َ', ' ', 'ِ', 'ِ', 'ِ', ' ', 'َ', 'ْ', 'ً', ' ', ' ', 'ُ', 'ْ', 'َ', ' ', 'ً', ' ', ' ', 'َ', 'َّ', ' ', 'ً', ' ', ' ', 'َ', 'ِ', 'ْ', ' ', 'َ', 'ْ', ' ', 'َ', 'ُ', 'ْ', ' ', 'َ', 'ُ', ' ', 'َ', ' ', 'ٌ']\n"
     ]
    }
   ],
   "source": [
    "print(b)"
   ]
  },
  {
   "cell_type": "code",
   "execution_count": 4,
   "metadata": {},
   "outputs": [],
   "source": [
    "letters_tok = keras.layers.TextVectorization(\n",
    "    ragged=True,\n",
    "    standardize=lambda x:tf.concat([[\"s\"], x, [\"e\"]], axis=-1),\n",
    "    split=None,\n",
    "    vocabulary=constants.get_letters_vocabulary(),\n",
    "    )\n",
    "\n",
    "diac_tok = keras.layers.TextVectorization(\n",
    "    ragged=True,\n",
    "    standardize=lambda x:tf.concat([[\" \"], x, [\" \"]], axis=-1),\n",
    "    split=None,\n",
    "    vocabulary=constants.get_diac_vocabulary()\n",
    "    )"
   ]
  },
  {
   "cell_type": "code",
   "execution_count": 3,
   "metadata": {},
   "outputs": [
    {
     "name": "stdout",
     "output_type": "stream",
     "text": [
      "41 ['', '[UNK]', ' ', 's', 'e', 'ء', 'آ', 'أ', 'ؤ', 'إ', 'ئ', 'ا', 'ب', 'ة', 'ت', 'ث', 'ج', 'ح', 'خ', 'د', 'ذ', 'ر', 'ز', 'س', 'ش', 'ص', 'ض', 'ط', 'ظ', 'ع', 'غ', 'ف', 'ق', 'ك', 'ل', 'م', 'ن', 'ه', 'و', 'ى', 'ي']\n"
     ]
    }
   ],
   "source": [
    "print(letters_tok.vocabulary_size(), letters_tok.get_vocabulary())"
   ]
  },
  {
   "cell_type": "code",
   "execution_count": 4,
   "metadata": {},
   "outputs": [
    {
     "name": "stdout",
     "output_type": "stream",
     "text": [
      "17 ['', '[UNK]', ' ', 'ً', 'ٌ', 'ٍ', 'َ', 'ُ', 'ِ', 'ّ', 'ْ', 'ًّ', 'َّ', 'ِّ', 'ٍّ', 'ُّ', 'ٌّ']\n"
     ]
    }
   ],
   "source": [
    "print(diac_tok.vocabulary_size(), diac_tok.get_vocabulary())"
   ]
  },
  {
   "cell_type": "code",
   "execution_count": 5,
   "metadata": {},
   "outputs": [],
   "source": [
    "data_loader = DataLoader(letters_tok, diac_tok)"
   ]
  },
  {
   "cell_type": "code",
   "execution_count": 6,
   "metadata": {},
   "outputs": [],
   "source": [
    "ca_train_raw = data_loader.from_csv('./dataset/Tashkeela-clean/CA/CA_train.csv')\n",
    "ca_val_raw = data_loader.from_csv('./dataset/Tashkeela-clean/CA/CA_val.csv')\n",
    "ca_test_raw = data_loader.from_csv('./dataset/Tashkeela-clean/CA/CA_test.csv')\n",
    "\n",
    "msa_train_raw = data_loader.from_csv('./dataset/Tashkeela-clean/MSA/MSA_train.csv')\n",
    "msa_val_raw = data_loader.from_csv('./dataset/Tashkeela-clean/MSA/MSA_val.csv')\n",
    "msa_test_raw = data_loader.from_csv('./dataset/Tashkeela-clean/MSA/MSA_test.csv')"
   ]
  },
  {
   "cell_type": "code",
   "execution_count": 7,
   "metadata": {},
   "outputs": [
    {
     "data": {
      "text/plain": [
       "<tf.Tensor: shape=(), dtype=string, numpy=b'\\xd9\\x88\\xd9\\x8e\\xd9\\x81\\xd9\\x90\\xd9\\x8a \\xd8\\xa8\\xd9\\x8e\\xd8\\xb9\\xd9\\x92\\xd8\\xb6\\xd9\\x90 \\xd8\\xa7\\xd9\\x84\\xd9\\x86\\xd9\\x91\\xd9\\x8f\\xd8\\xb3\\xd9\\x8e\\xd8\\xae\\xd9\\x90 \\xd8\\xa8\\xd9\\x90\\xd8\\xa7\\xd9\\x84\\xd9\\x92\\xd8\\xa5\\xd9\\x90\\xd8\\xb6\\xd9\\x8e\\xd8\\xa7\\xd9\\x81\\xd9\\x8e\\xd8\\xa9\\xd9\\x90 \\xd9\\x81\\xd9\\x8e\\xd8\\xb5\\xd9\\x8e\\xd8\\xa7\\xd9\\x84\\xd9\\x8e\\xd8\\xad\\xd9\\x8e \\xd8\\xa7\\xd9\\x84\\xd8\\xb1\\xd9\\x91\\xd9\\x8e\\xd8\\xac\\xd9\\x8f\\xd9\\x84\\xd9\\x8f \\xd8\\xa7\\xd9\\x84\\xd9\\x92\\xd9\\x85\\xd9\\x8e\\xd8\\xb1\\xd9\\x90\\xd9\\x8a\\xd8\\xb6\\xd9\\x8e \\xd8\\xb9\\xd9\\x8e\\xd9\\x84\\xd9\\x8e\\xd9\\x89 \\xd8\\xac\\xd9\\x8f\\xd8\\xb1\\xd9\\x92\\xd8\\xad\\xd9\\x90\\xd9\\x87\\xd9\\x90 \\xd9\\x81\\xd9\\x90\\xd9\\x8a \\xd8\\xad\\xd9\\x8e\\xd8\\xa7\\xd9\\x84\\xd9\\x90 \\xd9\\x85\\xd9\\x8e\\xd8\\xb1\\xd9\\x8e\\xd8\\xb6\\xd9\\x90\\xd9\\x87\\xd9\\x90 \\xd9\\x85\\xd9\\x90\\xd9\\x86\\xd9\\x92 \\xd8\\xa7\\xd9\\x84\\xd9\\x92\\xd8\\xac\\xd9\\x8f\\xd8\\xb1\\xd9\\x92\\xd8\\xad\\xd9\\x90 \\xd8\\xa8\\xd9\\x90 \\xd9\\x85\\xd9\\x8e\\xd8\\xa7\\xd9\\x84\\xd9\\x8d \\xd9\\x82\\xd9\\x8e\\xd8\\xaf\\xd9\\x92\\xd8\\xb1\\xd9\\x90 \\xd8\\xa3\\xd9\\x8e\\xd8\\xb1\\xd9\\x92\\xd8\\xb4\\xd9\\x90\\xd9\\x87\\xd9\\x90 \\xd8\\xa3\\xd9\\x8e\\xd9\\x8a\\xd9\\x92 \\xd8\\xaf\\xd9\\x90\\xd9\\x8a\\xd9\\x8e\\xd8\\xa9\\xd9\\x90 \\xd8\\xa7\\xd9\\x84\\xd9\\x92\\xd8\\xac\\xd9\\x8f\\xd8\\xb1\\xd9\\x92\\xd8\\xad\\xd9\\x90 \\xd8\\xa3\\xd9\\x8e\\xd9\\x88\\xd9\\x92 \\xd8\\xba\\xd9\\x8e\\xd9\\x8a\\xd9\\x92\\xd8\\xb1\\xd9\\x90\\xd9\\x87\\xd9\\x90 \\xd8\\xa3\\xd9\\x8e\\xd9\\x8a\\xd9\\x92 \\xd8\\xa7\\xd9\\x84\\xd9\\x92\\xd8\\xa3\\xd9\\x8e\\xd8\\xb1\\xd9\\x92\\xd8\\xb4\\xd9\\x90 \\xd8\\xb5\\xd9\\x8e\\xd8\\xa7\\xd8\\xaf\\xd9\\x90\\xd9\\x82\\xd9\\x8c \\xd8\\xa8\\xd9\\x90\\xd8\\xa3\\xd9\\x8e\\xd9\\x82\\xd9\\x8e\\xd9\\x84\\xd9\\x91\\xd9\\x8e \\xd9\\x88\\xd9\\x8e\\xd8\\xa3\\xd9\\x8e\\xd9\\x83\\xd9\\x92\\xd8\\xab\\xd9\\x8e\\xd8\\xb1\\xd9\\x8e \\xd9\\x85\\xd9\\x90\\xd9\\x86\\xd9\\x92\\xd9\\x87\\xd9\\x8f \\xd8\\xab\\xd9\\x8f\\xd9\\x85\\xd9\\x91\\xd9\\x8e \\xd9\\x85\\xd9\\x8e\\xd8\\xa7\\xd8\\xaa\\xd9\\x8e \\xd8\\xa7\\xd9\\x84\\xd9\\x92\\xd9\\x85\\xd9\\x8e\\xd8\\xb1\\xd9\\x90\\xd9\\x8a\\xd8\\xb6\\xd9\\x8f \\xd9\\x85\\xd9\\x90\\xd9\\x86\\xd9\\x92 \\xd9\\x85\\xd9\\x8e\\xd8\\xb1\\xd9\\x8e\\xd8\\xb6\\xd9\\x90\\xd9\\x87\\xd9\\x90 \\xd9\\x85\\xd9\\x90\\xd9\\x86\\xd9\\x92 \\xd8\\xb0\\xd9\\x8e\\xd9\\x84\\xd9\\x90\\xd9\\x83\\xd9\\x8e \\xd8\\xa7\\xd9\\x84\\xd9\\x92\\xd8\\xac\\xd9\\x8f\\xd8\\xb1\\xd9\\x92\\xd8\\xad\\xd9\\x90 \\xd8\\xac\\xd9\\x8e\\xd8\\xa7\\xd8\\xb2\\xd9\\x8e \\xd8\\xb5\\xd9\\x8f\\xd9\\x84\\xd9\\x92\\xd8\\xad\\xd9\\x8f\\xd9\\x87\\xd9\\x8f \\xd8\\xa7\\xd8\\xa8\\xd9\\x92\\xd8\\xaa\\xd9\\x90\\xd8\\xaf\\xd9\\x8e\\xd8\\xa7\\xd8\\xa1\\xd9\\x8b \\xd9\\x88\\xd9\\x8e\\xd9\\x84\\xd9\\x8e\\xd8\\xb2\\xd9\\x90\\xd9\\x85\\xd9\\x8e \\xd8\\xb5\\xd9\\x8f\\xd9\\x84\\xd9\\x92\\xd8\\xad\\xd9\\x8f\\xd9\\x87\\xd9\\x8f \\xd8\\xa8\\xd9\\x8e\\xd8\\xb9\\xd9\\x92\\xd8\\xaf\\xd9\\x8e \\xd9\\x88\\xd9\\x8f\\xd9\\x82\\xd9\\x8f\\xd9\\x88\\xd8\\xb9\\xd9\\x90\\xd9\\x87\\xd9\\x90 \\xd9\\x81\\xd9\\x8e\\xd9\\x84\\xd9\\x8e\\xd9\\x8a\\xd9\\x92\\xd8\\xb3\\xd9\\x8e \\xd9\\x84\\xd9\\x90\\xd9\\x88\\xd9\\x8e\\xd8\\xa7\\xd8\\xb1\\xd9\\x90\\xd8\\xab\\xd9\\x90\\xd9\\x87\\xd9\\x90 \\xd9\\x86\\xd9\\x8e\\xd9\\x82\\xd9\\x92\\xd8\\xb6\\xd9\\x8f\\xd9\\x87\\xd9\\x8f \\xd8\\xa5\\xd8\\xb0\\xd9\\x92 \\xd9\\x84\\xd9\\x90\\xd9\\x84\\xd9\\x92\\xd9\\x85\\xd9\\x8e\\xd8\\xb1\\xd9\\x90\\xd9\\x8a\\xd8\\xb6\\xd9\\x90 \\xd8\\xa7\\xd9\\x84\\xd9\\x92\\xd8\\xb9\\xd9\\x8e\\xd9\\x81\\xd9\\x92\\xd9\\x88\\xd9\\x8f \\xd8\\xb9\\xd9\\x8e\\xd9\\x86\\xd9\\x92 \\xd8\\xac\\xd9\\x8e\\xd8\\xa7\\xd8\\xb1\\xd9\\x90\\xd8\\xad\\xd9\\x90\\xd9\\x87\\xd9\\x90 \\xd8\\xb9\\xd9\\x8e\\xd9\\x85\\xd9\\x92\\xd8\\xaf\\xd9\\x8b\\xd8\\xa7 \\xd8\\xb9\\xd9\\x8f\\xd8\\xaf\\xd9\\x92\\xd9\\x88\\xd9\\x8e\\xd8\\xa7\\xd9\\x86\\xd9\\x8b\\xd8\\xa7 \\xd9\\x85\\xd9\\x8e\\xd8\\xac\\xd9\\x91\\xd9\\x8e\\xd8\\xa7\\xd9\\x86\\xd9\\x8b\\xd8\\xa7 \\xd9\\x88\\xd9\\x8e\\xd8\\xa5\\xd9\\x90\\xd9\\x86\\xd9\\x92 \\xd9\\x84\\xd9\\x8e\\xd9\\x85\\xd9\\x92 \\xd9\\x8a\\xd9\\x8e\\xd9\\x83\\xd9\\x8f\\xd9\\x86\\xd9\\x92 \\xd9\\x84\\xd9\\x8e\\xd9\\x87\\xd9\\x8f \\xd9\\x85\\xd9\\x8e\\xd8\\xa7\\xd9\\x84\\xd9\\x8c'>"
      ]
     },
     "execution_count": 7,
     "metadata": {},
     "output_type": "execute_result"
    }
   ],
   "source": [
    "sample = next(iter(ca_train_raw))\n",
    "sample"
   ]
  },
  {
   "cell_type": "code",
   "execution_count": 67,
   "metadata": {},
   "outputs": [],
   "source": [
    "a, b = data_loader.tf_strip_tashkeel(sample)"
   ]
  },
  {
   "cell_type": "code",
   "execution_count": 68,
   "metadata": {},
   "outputs": [
    {
     "data": {
      "text/plain": [
       "<tf.Tensor: shape=(285,), dtype=string, numpy=\n",
       "array([b'\\xd9\\x88', b'\\xd9\\x81', b'\\xd9\\x8a', b' ', b'\\xd8\\xa8',\n",
       "       b'\\xd8\\xb9', b'\\xd8\\xb6', b' ', b'\\xd8\\xa7', b'\\xd9\\x84',\n",
       "       b'\\xd9\\x86', b'\\xd8\\xb3', b'\\xd8\\xae', b' ', b'\\xd8\\xa8',\n",
       "       b'\\xd8\\xa7', b'\\xd9\\x84', b'\\xd8\\xa5', b'\\xd8\\xb6', b'\\xd8\\xa7',\n",
       "       b'\\xd9\\x81', b'\\xd8\\xa9', b' ', b'\\xd9\\x81', b'\\xd8\\xb5',\n",
       "       b'\\xd8\\xa7', b'\\xd9\\x84', b'\\xd8\\xad', b' ', b'\\xd8\\xa7',\n",
       "       b'\\xd9\\x84', b'\\xd8\\xb1', b'\\xd8\\xac', b'\\xd9\\x84', b' ',\n",
       "       b'\\xd8\\xa7', b'\\xd9\\x84', b'\\xd9\\x85', b'\\xd8\\xb1', b'\\xd9\\x8a',\n",
       "       b'\\xd8\\xb6', b' ', b'\\xd8\\xb9', b'\\xd9\\x84', b'\\xd9\\x89', b' ',\n",
       "       b'\\xd8\\xac', b'\\xd8\\xb1', b'\\xd8\\xad', b'\\xd9\\x87', b' ',\n",
       "       b'\\xd9\\x81', b'\\xd9\\x8a', b' ', b'\\xd8\\xad', b'\\xd8\\xa7',\n",
       "       b'\\xd9\\x84', b' ', b'\\xd9\\x85', b'\\xd8\\xb1', b'\\xd8\\xb6',\n",
       "       b'\\xd9\\x87', b' ', b'\\xd9\\x85', b'\\xd9\\x86', b' ', b'\\xd8\\xa7',\n",
       "       b'\\xd9\\x84', b'\\xd8\\xac', b'\\xd8\\xb1', b'\\xd8\\xad', b' ',\n",
       "       b'\\xd8\\xa8', b' ', b'\\xd9\\x85', b'\\xd8\\xa7', b'\\xd9\\x84', b' ',\n",
       "       b'\\xd9\\x82', b'\\xd8\\xaf', b'\\xd8\\xb1', b' ', b'\\xd8\\xa3',\n",
       "       b'\\xd8\\xb1', b'\\xd8\\xb4', b'\\xd9\\x87', b' ', b'\\xd8\\xa3',\n",
       "       b'\\xd9\\x8a', b' ', b'\\xd8\\xaf', b'\\xd9\\x8a', b'\\xd8\\xa9', b' ',\n",
       "       b'\\xd8\\xa7', b'\\xd9\\x84', b'\\xd8\\xac', b'\\xd8\\xb1', b'\\xd8\\xad',\n",
       "       b' ', b'\\xd8\\xa3', b'\\xd9\\x88', b' ', b'\\xd8\\xba', b'\\xd9\\x8a',\n",
       "       b'\\xd8\\xb1', b'\\xd9\\x87', b' ', b'\\xd8\\xa3', b'\\xd9\\x8a', b' ',\n",
       "       b'\\xd8\\xa7', b'\\xd9\\x84', b'\\xd8\\xa3', b'\\xd8\\xb1', b'\\xd8\\xb4',\n",
       "       b' ', b'\\xd8\\xb5', b'\\xd8\\xa7', b'\\xd8\\xaf', b'\\xd9\\x82', b' ',\n",
       "       b'\\xd8\\xa8', b'\\xd8\\xa3', b'\\xd9\\x82', b'\\xd9\\x84', b' ',\n",
       "       b'\\xd9\\x88', b'\\xd8\\xa3', b'\\xd9\\x83', b'\\xd8\\xab', b'\\xd8\\xb1',\n",
       "       b' ', b'\\xd9\\x85', b'\\xd9\\x86', b'\\xd9\\x87', b' ', b'\\xd8\\xab',\n",
       "       b'\\xd9\\x85', b' ', b'\\xd9\\x85', b'\\xd8\\xa7', b'\\xd8\\xaa', b' ',\n",
       "       b'\\xd8\\xa7', b'\\xd9\\x84', b'\\xd9\\x85', b'\\xd8\\xb1', b'\\xd9\\x8a',\n",
       "       b'\\xd8\\xb6', b' ', b'\\xd9\\x85', b'\\xd9\\x86', b' ', b'\\xd9\\x85',\n",
       "       b'\\xd8\\xb1', b'\\xd8\\xb6', b'\\xd9\\x87', b' ', b'\\xd9\\x85',\n",
       "       b'\\xd9\\x86', b' ', b'\\xd8\\xb0', b'\\xd9\\x84', b'\\xd9\\x83', b' ',\n",
       "       b'\\xd8\\xa7', b'\\xd9\\x84', b'\\xd8\\xac', b'\\xd8\\xb1', b'\\xd8\\xad',\n",
       "       b' ', b'\\xd8\\xac', b'\\xd8\\xa7', b'\\xd8\\xb2', b' ', b'\\xd8\\xb5',\n",
       "       b'\\xd9\\x84', b'\\xd8\\xad', b'\\xd9\\x87', b' ', b'\\xd8\\xa7',\n",
       "       b'\\xd8\\xa8', b'\\xd8\\xaa', b'\\xd8\\xaf', b'\\xd8\\xa7', b'\\xd8\\xa1',\n",
       "       b' ', b'\\xd9\\x88', b'\\xd9\\x84', b'\\xd8\\xb2', b'\\xd9\\x85', b' ',\n",
       "       b'\\xd8\\xb5', b'\\xd9\\x84', b'\\xd8\\xad', b'\\xd9\\x87', b' ',\n",
       "       b'\\xd8\\xa8', b'\\xd8\\xb9', b'\\xd8\\xaf', b' ', b'\\xd9\\x88',\n",
       "       b'\\xd9\\x82', b'\\xd9\\x88', b'\\xd8\\xb9', b'\\xd9\\x87', b' ',\n",
       "       b'\\xd9\\x81', b'\\xd9\\x84', b'\\xd9\\x8a', b'\\xd8\\xb3', b' ',\n",
       "       b'\\xd9\\x84', b'\\xd9\\x88', b'\\xd8\\xa7', b'\\xd8\\xb1', b'\\xd8\\xab',\n",
       "       b'\\xd9\\x87', b' ', b'\\xd9\\x86', b'\\xd9\\x82', b'\\xd8\\xb6',\n",
       "       b'\\xd9\\x87', b' ', b'\\xd8\\xa5', b'\\xd8\\xb0', b' ', b'\\xd9\\x84',\n",
       "       b'\\xd9\\x84', b'\\xd9\\x85', b'\\xd8\\xb1', b'\\xd9\\x8a', b'\\xd8\\xb6',\n",
       "       b' ', b'\\xd8\\xa7', b'\\xd9\\x84', b'\\xd8\\xb9', b'\\xd9\\x81',\n",
       "       b'\\xd9\\x88', b' ', b'\\xd8\\xb9', b'\\xd9\\x86', b' ', b'\\xd8\\xac',\n",
       "       b'\\xd8\\xa7', b'\\xd8\\xb1', b'\\xd8\\xad', b'\\xd9\\x87', b' ',\n",
       "       b'\\xd8\\xb9', b'\\xd9\\x85', b'\\xd8\\xaf', b'\\xd8\\xa7', b' ',\n",
       "       b'\\xd8\\xb9', b'\\xd8\\xaf', b'\\xd9\\x88', b'\\xd8\\xa7', b'\\xd9\\x86',\n",
       "       b'\\xd8\\xa7', b' ', b'\\xd9\\x85', b'\\xd8\\xac', b'\\xd8\\xa7',\n",
       "       b'\\xd9\\x86', b'\\xd8\\xa7', b' ', b'\\xd9\\x88', b'\\xd8\\xa5',\n",
       "       b'\\xd9\\x86', b' ', b'\\xd9\\x84', b'\\xd9\\x85', b' ', b'\\xd9\\x8a',\n",
       "       b'\\xd9\\x83', b'\\xd9\\x86', b' ', b'\\xd9\\x84', b'\\xd9\\x87', b' ',\n",
       "       b'\\xd9\\x85', b'\\xd8\\xa7', b'\\xd9\\x84'], dtype=object)>"
      ]
     },
     "execution_count": 68,
     "metadata": {},
     "output_type": "execute_result"
    }
   ],
   "source": [
    "a"
   ]
  },
  {
   "cell_type": "code",
   "execution_count": 70,
   "metadata": {},
   "outputs": [
    {
     "data": {
      "text/plain": [
       "['',\n",
       " '[UNK]',\n",
       " ' ',\n",
       " 's',\n",
       " 'e',\n",
       " 'ء',\n",
       " 'آ',\n",
       " 'أ',\n",
       " 'ؤ',\n",
       " 'إ',\n",
       " 'ئ',\n",
       " 'ا',\n",
       " 'ب',\n",
       " 'ة',\n",
       " 'ت',\n",
       " 'ث',\n",
       " 'ج',\n",
       " 'ح',\n",
       " 'خ',\n",
       " 'د',\n",
       " 'ذ',\n",
       " 'ر',\n",
       " 'ز',\n",
       " 'س',\n",
       " 'ش',\n",
       " 'ص',\n",
       " 'ض',\n",
       " 'ط',\n",
       " 'ظ',\n",
       " 'ع',\n",
       " 'غ',\n",
       " 'ف',\n",
       " 'ق',\n",
       " 'ك',\n",
       " 'ل',\n",
       " 'م',\n",
       " 'ن',\n",
       " 'ه',\n",
       " 'و',\n",
       " 'ى',\n",
       " 'ي']"
      ]
     },
     "execution_count": 70,
     "metadata": {},
     "output_type": "execute_result"
    }
   ],
   "source": [
    "letters_tok.get_vocabulary()"
   ]
  },
  {
   "cell_type": "code",
   "execution_count": 69,
   "metadata": {},
   "outputs": [
    {
     "data": {
      "text/plain": [
       "<tf.Tensor: shape=(287,), dtype=int64, numpy=\n",
       "array([ 3, 38, 31, 40,  2, 12, 29, 26,  2, 11, 34, 36, 23, 18,  2, 12, 11,\n",
       "       34,  9, 26, 11, 31, 13,  2, 31, 25, 11, 34, 17,  2, 11, 34, 21, 16,\n",
       "       34,  2, 11, 34, 35, 21, 40, 26,  2, 29, 34, 39,  2, 16, 21, 17, 37,\n",
       "        2, 31, 40,  2, 17, 11, 34,  2, 35, 21, 26, 37,  2, 35, 36,  2, 11,\n",
       "       34, 16, 21, 17,  2, 12,  2, 35, 11, 34,  2, 32, 19, 21,  2,  7, 21,\n",
       "       24, 37,  2,  7, 40,  2, 19, 40, 13,  2, 11, 34, 16, 21, 17,  2,  7,\n",
       "       38,  2, 30, 40, 21, 37,  2,  7, 40,  2, 11, 34,  7, 21, 24,  2, 25,\n",
       "       11, 19, 32,  2, 12,  7, 32, 34,  2, 38,  7, 33, 15, 21,  2, 35, 36,\n",
       "       37,  2, 15, 35,  2, 35, 11, 14,  2, 11, 34, 35, 21, 40, 26,  2, 35,\n",
       "       36,  2, 35, 21, 26, 37,  2, 35, 36,  2, 20, 34, 33,  2, 11, 34, 16,\n",
       "       21, 17,  2, 16, 11, 22,  2, 25, 34, 17, 37,  2, 11, 12, 14, 19, 11,\n",
       "        5,  2, 38, 34, 22, 35,  2, 25, 34, 17, 37,  2, 12, 29, 19,  2, 38,\n",
       "       32, 38, 29, 37,  2, 31, 34, 40, 23,  2, 34, 38, 11, 21, 15, 37,  2,\n",
       "       36, 32, 26, 37,  2,  9, 20,  2, 34, 34, 35, 21, 40, 26,  2, 11, 34,\n",
       "       29, 31, 38,  2, 29, 36,  2, 16, 11, 21, 17, 37,  2, 29, 35, 19, 11,\n",
       "        2, 29, 19, 38, 11, 36, 11,  2, 35, 16, 11, 36, 11,  2, 38,  9, 36,\n",
       "        2, 34, 35,  2, 40, 33, 36,  2, 34, 37,  2, 35, 11, 34,  4],\n",
       "      dtype=int64)>"
      ]
     },
     "execution_count": 69,
     "metadata": {},
     "output_type": "execute_result"
    }
   ],
   "source": [
    "letters_tok(a)"
   ]
  },
  {
   "cell_type": "code",
   "execution_count": 63,
   "metadata": {},
   "outputs": [
    {
     "data": {
      "text/plain": [
       "479"
      ]
     },
     "execution_count": 63,
     "metadata": {},
     "output_type": "execute_result"
    }
   ],
   "source": [
    "len(sample.numpy().decode('utf-8'))"
   ]
  },
  {
   "cell_type": "code",
   "execution_count": 8,
   "metadata": {},
   "outputs": [
    {
     "data": {
      "text/plain": [
       "'وَفِي بَعْضِ النُّسَخِ بِالْإِضَافَةِ فَصَالَحَ الرَّجُلُ الْمَرِيضَ عَلَى جُرْحِهِ فِي حَالِ مَرَضِهِ مِنْ الْجُرْحِ بِ مَالٍ قَدْرِ أَرْشِهِ أَيْ دِيَةِ الْجُرْحِ أَوْ غَيْرِهِ أَيْ الْأَرْشِ صَادِقٌ بِأَقَلَّ وَأَكْثَرَ مِنْهُ ثُمَّ مَاتَ الْمَرِيضُ مِنْ مَرَضِهِ مِنْ ذَلِكَ الْجُرْحِ جَازَ صُلْحُهُ ابْتِدَاءً وَلَزِمَ صُلْحُهُ بَعْدَ وُقُوعِهِ فَلَيْسَ لِوَارِثِهِ نَقْضُهُ إذْ لِلْمَرِيضِ الْعَفْوُ عَنْ جَارِحِهِ عَمْدًا عُدْوَانًا مَجَّانًا وَإِنْ لَمْ يَكُنْ لَهُ مَالٌ'"
      ]
     },
     "execution_count": 8,
     "metadata": {},
     "output_type": "execute_result"
    }
   ],
   "source": [
    "sample.numpy().decode('utf-8')"
   ]
  },
  {
   "cell_type": "code",
   "execution_count": 9,
   "metadata": {},
   "outputs": [],
   "source": [
    "BATCH_SIZE = 32\n",
    "ca_train = data_loader.process_ds(ca_train_raw, batch_size=BATCH_SIZE)\n",
    "ca_val = data_loader.process_ds(ca_val_raw, batch_size=BATCH_SIZE)\n",
    "ca_test = data_loader.process_ds(ca_test_raw, batch_size=BATCH_SIZE)\n",
    "\n",
    "msa_train = data_loader.process_ds(msa_train_raw, batch_size=BATCH_SIZE)\n",
    "msa_val = data_loader.process_ds(msa_val_raw, batch_size=BATCH_SIZE)\n",
    "msa_test = data_loader.process_ds(msa_test_raw, batch_size=BATCH_SIZE)"
   ]
  },
  {
   "cell_type": "code",
   "execution_count": 10,
   "metadata": {},
   "outputs": [
    {
     "data": {
      "text/plain": [
       "<_PrefetchDataset element_spec=(TensorSpec(shape=(None, None), dtype=tf.int64, name=None), TensorSpec(shape=(None, None), dtype=tf.int64, name=None))>"
      ]
     },
     "execution_count": 10,
     "metadata": {},
     "output_type": "execute_result"
    }
   ],
   "source": [
    "msa_train"
   ]
  },
  {
   "cell_type": "code",
   "execution_count": 71,
   "metadata": {},
   "outputs": [],
   "source": [
    "it = iter(msa_train)"
   ]
  },
  {
   "cell_type": "code",
   "execution_count": 78,
   "metadata": {},
   "outputs": [],
   "source": [
    "sen, diac = next(it)"
   ]
  },
  {
   "cell_type": "code",
   "execution_count": 79,
   "metadata": {},
   "outputs": [
    {
     "data": {
      "text/plain": [
       "<tf.Tensor: shape=(32, 99), dtype=int64, numpy=\n",
       "array([[ 3, 40, 22, ...,  0,  0,  0],\n",
       "       [ 3, 16, 11, ...,  4,  0,  0],\n",
       "       [ 3, 38, 34, ...,  0,  0,  0],\n",
       "       ...,\n",
       "       [ 3, 31, 37, ...,  0,  0,  0],\n",
       "       [ 3, 38, 31, ..., 22, 13,  4],\n",
       "       [ 3, 38, 17, ...,  0,  0,  0]], dtype=int64)>"
      ]
     },
     "execution_count": 79,
     "metadata": {},
     "output_type": "execute_result"
    }
   ],
   "source": [
    "sen"
   ]
  },
  {
   "cell_type": "code",
   "execution_count": 80,
   "metadata": {},
   "outputs": [
    {
     "data": {
      "text/plain": [
       "<tf.Tensor: shape=(32, 99), dtype=int64, numpy=\n",
       "array([[ 2,  7, 10, ...,  0,  0,  0],\n",
       "       [ 2,  6,  2, ...,  2,  0,  0],\n",
       "       [ 2,  6,  6, ...,  0,  0,  0],\n",
       "       ...,\n",
       "       [ 2,  6,  6, ...,  0,  0,  0],\n",
       "       [ 2,  6,  8, ...,  6,  8,  2],\n",
       "       [ 2,  6,  6, ...,  0,  0,  0]], dtype=int64)>"
      ]
     },
     "execution_count": 80,
     "metadata": {},
     "output_type": "execute_result"
    }
   ],
   "source": [
    "diac"
   ]
  },
  {
   "cell_type": "code",
   "execution_count": 14,
   "metadata": {},
   "outputs": [],
   "source": [
    "diacritizer = Diacritizer(\"./servants/exported_model\", letters_tok, diac_tok)"
   ]
  },
  {
   "cell_type": "code",
   "execution_count": 15,
   "metadata": {},
   "outputs": [],
   "source": [
    "dec_sen = diacritizer.decode_sentences(sen)\n",
    "dec_diac = diacritizer.decode_diacritics(diac)"
   ]
  },
  {
   "cell_type": "code",
   "execution_count": 16,
   "metadata": {},
   "outputs": [
    {
     "data": {
      "text/plain": [
       "'وقد تكون متعلقة بالنفس الإنسانية أو بالرسالات وما جرى حولها من تشكيك تقصده المعادون للأنبياء والمفسدون في الأرض'"
      ]
     },
     "execution_count": 16,
     "metadata": {},
     "output_type": "execute_result"
    }
   ],
   "source": [
    "\"\".join(dec_sen[0])[1:-1]"
   ]
  },
  {
   "cell_type": "code",
   "execution_count": 17,
   "metadata": {},
   "outputs": [
    {
     "data": {
      "text/plain": [
       "'ََْ َُ ُ ًَََُِّ ِ  َِّْ  َِْْ َِِّ َِ ِ  َِّ َ ِ ََ  ََ  َََْ  ِْ َِْ ٍ ََََُّ  َُْ ُ َ ََِِْْ ِ َ ُُِْْ َ ِ   َِْْ'"
      ]
     },
     "execution_count": 17,
     "metadata": {},
     "output_type": "execute_result"
    }
   ],
   "source": [
    "\"\".join(dec_diac[0])[1:-1]"
   ]
  },
  {
   "cell_type": "code",
   "execution_count": 18,
   "metadata": {},
   "outputs": [
    {
     "data": {
      "text/plain": [
       "'وَقَدْ تَكُونُ مُتَعَلِّقَةً بِالنَّفْسِ الْإِنْسَانِيَّةِ أَوِ بِالرِّسَالَاتِ وَمَا جَرَى حَوْلَهَا مِنْ تَشْكِيكٍ تَقَصَّدَهُ الْمُعَادُونَ لِلْأَنْبِيَاءِ وَالْمُفْسِدُونَ فِي الْأَرْضِ'"
      ]
     },
     "execution_count": 18,
     "metadata": {},
     "output_type": "execute_result"
    }
   ],
   "source": [
    "eof_idx = dec_sen[0].index('e')\n",
    "Preprocessor.combine_tashkeel(dec_sen[0][1:eof_idx], dec_diac[0][1:eof_idx])"
   ]
  },
  {
   "cell_type": "markdown",
   "metadata": {},
   "source": [
    "## Modelling"
   ]
  },
  {
   "cell_type": "code",
   "execution_count": 33,
   "metadata": {},
   "outputs": [],
   "source": [
    "config = yaml.load(open('./configs/lstm_config.yaml', 'r'), Loader=yaml.FullLoader)"
   ]
  },
  {
   "cell_type": "code",
   "execution_count": 34,
   "metadata": {},
   "outputs": [
    {
     "data": {
      "text/plain": [
       "{'model': {'type': 'rnn',\n",
       "  'params': {'embedding_dims': 128,\n",
       "   'rnn_type': 'LSTM',\n",
       "   'rnn_layers': 2,\n",
       "   'rnn_units': 128,\n",
       "   'dense_layers': 1,\n",
       "   'dense_units': 256,\n",
       "   'dropout_rate': 0.4}},\n",
       " 'train': {'epochs': 50,\n",
       "  'steps_per_epoch': 100,\n",
       "  'validation_steps': 30,\n",
       "  'verbose': 1,\n",
       "  'weights_save_dir': './weights/',\n",
       "  'servant_save_dir': './servants/',\n",
       "  'learning_rate': 0.001,\n",
       "  'lr_schedule_InverseTimeDecay': True,\n",
       "  'decay_rate': 1,\n",
       "  'staircase': False,\n",
       "  'decay_steps_multiple': 20,\n",
       "  'early_stopping': {'allow': True,\n",
       "   'monitor': 'val_loss',\n",
       "   'patience': 10,\n",
       "   'restore_best_weights': True,\n",
       "   'verbose': 1},\n",
       "  'checkpoint': {'allow': True,\n",
       "   'save_weights_only': True,\n",
       "   'save_freq_multiple': 25,\n",
       "   'verbose': 1}}}"
      ]
     },
     "execution_count": 34,
     "metadata": {},
     "output_type": "execute_result"
    }
   ],
   "source": [
    "config"
   ]
  },
  {
   "cell_type": "code",
   "execution_count": 35,
   "metadata": {},
   "outputs": [],
   "source": [
    "model = RNNModel(**config['model']['params'])"
   ]
  },
  {
   "cell_type": "code",
   "execution_count": 36,
   "metadata": {},
   "outputs": [],
   "source": [
    "STEPS_PER_EPOCH = config['train']['steps_per_epoch']\n",
    "\n",
    "lr_scheduler = keras.optimizers.schedules.InverseTimeDecay(\n",
    "    initial_learning_rate=config['train']['learning_rate'],\n",
    "    decay_steps=config['train']['decay_steps_multiple']*STEPS_PER_EPOCH,\n",
    "    decay_rate=config['train']['decay_rate'],\n",
    "    staircase=config['train']['staircase'],\n",
    ")\n",
    "\n",
    "early_stopping = keras.callbacks.EarlyStopping(\n",
    "    monitor=config['train']['early_stopping']['monitor'],\n",
    "    patience=config['train']['early_stopping']['patience'],\n",
    "    restore_best_weights=config['train']['early_stopping']['restore_best_weights'],\n",
    "    verbose=config['train']['early_stopping']['verbose']\n",
    "    )\n"
   ]
  },
  {
   "cell_type": "code",
   "execution_count": 81,
   "metadata": {},
   "outputs": [
    {
     "data": {
      "text/plain": [
       "17"
      ]
     },
     "execution_count": 81,
     "metadata": {},
     "output_type": "execute_result"
    }
   ],
   "source": [
    "diac_tok.vocabulary_size()"
   ]
  },
  {
   "cell_type": "code",
   "execution_count": 155,
   "metadata": {},
   "outputs": [],
   "source": [
    "# save vocab as pkl\n",
    "import pickle\n",
    "\n",
    "with open(\"./vocabs/letters_vocabulary.pkl\", \"wb\") as f:\n",
    "    pickle.dump(letters_tok.get_vocabulary(), f)\n"
   ]
  },
  {
   "cell_type": "code",
   "execution_count": 153,
   "metadata": {},
   "outputs": [
    {
     "name": "stdout",
     "output_type": "stream",
     "text": [
      "['', '[UNK]', ' ', 'ً', 'ٌ', 'ٍ', 'َ', 'ُ', 'ِ', 'ّ', 'ْ', 'ًّ', 'َّ', 'ِّ', 'ٍّ', 'ُّ', 'ٌّ']\n"
     ]
    }
   ],
   "source": [
    "print(diac_tok.get_vocabulary())"
   ]
  },
  {
   "cell_type": "code",
   "execution_count": 37,
   "metadata": {},
   "outputs": [],
   "source": [
    "optimizer = keras.optimizers.Adam(1e-3)"
   ]
  },
  {
   "cell_type": "code",
   "execution_count": 38,
   "metadata": {},
   "outputs": [],
   "source": [
    "model.build(input_shape=(None, None))"
   ]
  },
  {
   "cell_type": "code",
   "execution_count": 39,
   "metadata": {},
   "outputs": [
    {
     "data": {
      "text/html": [
       "<pre style=\"white-space:pre;overflow-x:auto;line-height:normal;font-family:Menlo,'DejaVu Sans Mono',consolas,'Courier New',monospace\"><span style=\"font-weight: bold\">Model: \"rnn_model_1\"</span>\n",
       "</pre>\n"
      ],
      "text/plain": [
       "\u001b[1mModel: \"rnn_model_1\"\u001b[0m\n"
      ]
     },
     "metadata": {},
     "output_type": "display_data"
    },
    {
     "data": {
      "text/html": [
       "<pre style=\"white-space:pre;overflow-x:auto;line-height:normal;font-family:Menlo,'DejaVu Sans Mono',consolas,'Courier New',monospace\">┏━━━━━━━━━━━━━━━━━━━━━━━━━━━━━━━━━┳━━━━━━━━━━━━━━━━━━━━━━━━┳━━━━━━━━━━━━━━━┓\n",
       "┃<span style=\"font-weight: bold\"> Layer (type)                    </span>┃<span style=\"font-weight: bold\"> Output Shape           </span>┃<span style=\"font-weight: bold\">       Param # </span>┃\n",
       "┡━━━━━━━━━━━━━━━━━━━━━━━━━━━━━━━━━╇━━━━━━━━━━━━━━━━━━━━━━━━╇━━━━━━━━━━━━━━━┩\n",
       "│ embedding_1 (<span style=\"color: #0087ff; text-decoration-color: #0087ff\">Embedding</span>)         │ ?                      │         <span style=\"color: #00af00; text-decoration-color: #00af00\">5,376</span> │\n",
       "├─────────────────────────────────┼────────────────────────┼───────────────┤\n",
       "│ bidirectional_2 (<span style=\"color: #0087ff; text-decoration-color: #0087ff\">Bidirectional</span>) │ ?                      │       <span style=\"color: #00af00; text-decoration-color: #00af00\">263,168</span> │\n",
       "├─────────────────────────────────┼────────────────────────┼───────────────┤\n",
       "│ bidirectional_3 (<span style=\"color: #0087ff; text-decoration-color: #0087ff\">Bidirectional</span>) │ ?                      │       <span style=\"color: #00af00; text-decoration-color: #00af00\">394,240</span> │\n",
       "├─────────────────────────────────┼────────────────────────┼───────────────┤\n",
       "│ dense_2 (<span style=\"color: #0087ff; text-decoration-color: #0087ff\">Dense</span>)                 │ ?                      │        <span style=\"color: #00af00; text-decoration-color: #00af00\">65,792</span> │\n",
       "├─────────────────────────────────┼────────────────────────┼───────────────┤\n",
       "│ dense_3 (<span style=\"color: #0087ff; text-decoration-color: #0087ff\">Dense</span>)                 │ ?                      │         <span style=\"color: #00af00; text-decoration-color: #00af00\">4,626</span> │\n",
       "└─────────────────────────────────┴────────────────────────┴───────────────┘\n",
       "</pre>\n"
      ],
      "text/plain": [
       "┏━━━━━━━━━━━━━━━━━━━━━━━━━━━━━━━━━┳━━━━━━━━━━━━━━━━━━━━━━━━┳━━━━━━━━━━━━━━━┓\n",
       "┃\u001b[1m \u001b[0m\u001b[1mLayer (type)                   \u001b[0m\u001b[1m \u001b[0m┃\u001b[1m \u001b[0m\u001b[1mOutput Shape          \u001b[0m\u001b[1m \u001b[0m┃\u001b[1m \u001b[0m\u001b[1m      Param #\u001b[0m\u001b[1m \u001b[0m┃\n",
       "┡━━━━━━━━━━━━━━━━━━━━━━━━━━━━━━━━━╇━━━━━━━━━━━━━━━━━━━━━━━━╇━━━━━━━━━━━━━━━┩\n",
       "│ embedding_1 (\u001b[38;5;33mEmbedding\u001b[0m)         │ ?                      │         \u001b[38;5;34m5,376\u001b[0m │\n",
       "├─────────────────────────────────┼────────────────────────┼───────────────┤\n",
       "│ bidirectional_2 (\u001b[38;5;33mBidirectional\u001b[0m) │ ?                      │       \u001b[38;5;34m263,168\u001b[0m │\n",
       "├─────────────────────────────────┼────────────────────────┼───────────────┤\n",
       "│ bidirectional_3 (\u001b[38;5;33mBidirectional\u001b[0m) │ ?                      │       \u001b[38;5;34m394,240\u001b[0m │\n",
       "├─────────────────────────────────┼────────────────────────┼───────────────┤\n",
       "│ dense_2 (\u001b[38;5;33mDense\u001b[0m)                 │ ?                      │        \u001b[38;5;34m65,792\u001b[0m │\n",
       "├─────────────────────────────────┼────────────────────────┼───────────────┤\n",
       "│ dense_3 (\u001b[38;5;33mDense\u001b[0m)                 │ ?                      │         \u001b[38;5;34m4,626\u001b[0m │\n",
       "└─────────────────────────────────┴────────────────────────┴───────────────┘\n"
      ]
     },
     "metadata": {},
     "output_type": "display_data"
    },
    {
     "data": {
      "text/html": [
       "<pre style=\"white-space:pre;overflow-x:auto;line-height:normal;font-family:Menlo,'DejaVu Sans Mono',consolas,'Courier New',monospace\"><span style=\"font-weight: bold\"> Total params: </span><span style=\"color: #00af00; text-decoration-color: #00af00\">733,202</span> (2.80 MB)\n",
       "</pre>\n"
      ],
      "text/plain": [
       "\u001b[1m Total params: \u001b[0m\u001b[38;5;34m733,202\u001b[0m (2.80 MB)\n"
      ]
     },
     "metadata": {},
     "output_type": "display_data"
    },
    {
     "data": {
      "text/html": [
       "<pre style=\"white-space:pre;overflow-x:auto;line-height:normal;font-family:Menlo,'DejaVu Sans Mono',consolas,'Courier New',monospace\"><span style=\"font-weight: bold\"> Trainable params: </span><span style=\"color: #00af00; text-decoration-color: #00af00\">733,202</span> (2.80 MB)\n",
       "</pre>\n"
      ],
      "text/plain": [
       "\u001b[1m Trainable params: \u001b[0m\u001b[38;5;34m733,202\u001b[0m (2.80 MB)\n"
      ]
     },
     "metadata": {},
     "output_type": "display_data"
    },
    {
     "data": {
      "text/html": [
       "<pre style=\"white-space:pre;overflow-x:auto;line-height:normal;font-family:Menlo,'DejaVu Sans Mono',consolas,'Courier New',monospace\"><span style=\"font-weight: bold\"> Non-trainable params: </span><span style=\"color: #00af00; text-decoration-color: #00af00\">0</span> (0.00 B)\n",
       "</pre>\n"
      ],
      "text/plain": [
       "\u001b[1m Non-trainable params: \u001b[0m\u001b[38;5;34m0\u001b[0m (0.00 B)\n"
      ]
     },
     "metadata": {},
     "output_type": "display_data"
    }
   ],
   "source": [
    "model.summary()"
   ]
  },
  {
   "cell_type": "code",
   "execution_count": 40,
   "metadata": {},
   "outputs": [],
   "source": [
    "ds_train = data_loader.merge_datasets([ca_train, msa_train])\n",
    "ds_val = data_loader.merge_datasets([ca_val, msa_val])\n",
    "ds_test = data_loader.merge_datasets([ca_test, msa_test])"
   ]
  },
  {
   "cell_type": "code",
   "execution_count": 41,
   "metadata": {},
   "outputs": [
    {
     "data": {
      "text/plain": [
       "(74745, 4153, 4153)"
      ]
     },
     "execution_count": 41,
     "metadata": {},
     "output_type": "execute_result"
    }
   ],
   "source": [
    "len(ds_train), len(ds_val), len(ds_test)"
   ]
  },
  {
   "cell_type": "code",
   "execution_count": 156,
   "metadata": {},
   "outputs": [],
   "source": [
    "trainer = Trainer(\n",
    "    model=model,\n",
    "    name=\"lstm-emb128-2rnn128-1dense256-v3\",\n",
    "    optimizer=optimizer,\n",
    "    loss_fn=masked_loss,\n",
    "    train_ds=ds_train,\n",
    "    valid_ds=ds_val,\n",
    "    epochs=200,\n",
    "    steps_per_epoch=STEPS_PER_EPOCH,\n",
    "    validation_steps=config['train']['validation_steps'],\n",
    "    callbacks=[early_stopping],\n",
    "    verbose=config['train']['verbose'],\n",
    "    weights_save_dir=config['train']['weights_save_dir'],\n",
    "    servant_save_dir=config['train']['servant_save_dir'],\n",
    "    )"
   ]
  },
  {
   "cell_type": "code",
   "execution_count": 157,
   "metadata": {},
   "outputs": [
    {
     "name": "stdout",
     "output_type": "stream",
     "text": [
      "Epoch 1/200\n"
     ]
    },
    {
     "name": "stderr",
     "output_type": "stream",
     "text": [
      "c:\\Users\\PrinceEGY\\anaconda3\\envs\\Shakkel\\Lib\\contextlib.py:158: UserWarning: Your input ran out of data; interrupting training. Make sure that your dataset or generator can generate at least `steps_per_epoch * epochs` batches. You may need to use the `.repeat()` function when building your dataset.\n",
      "  self.gen.throw(value)\n"
     ]
    },
    {
     "name": "stdout",
     "output_type": "stream",
     "text": [
      "\u001b[1m100/100\u001b[0m \u001b[32m━━━━━━━━━━━━━━━━━━━━\u001b[0m\u001b[37m\u001b[0m \u001b[1m104s\u001b[0m 842ms/step - loss: 0.1294 - val_loss: 0.1076\n",
      "Epoch 2/200\n",
      "\u001b[1m100/100\u001b[0m \u001b[32m━━━━━━━━━━━━━━━━━━━━\u001b[0m\u001b[37m\u001b[0m \u001b[1m69s\u001b[0m 684ms/step - loss: 0.1317 - val_loss: 0.1041\n",
      "Epoch 3/200\n",
      "\u001b[1m100/100\u001b[0m \u001b[32m━━━━━━━━━━━━━━━━━━━━\u001b[0m\u001b[37m\u001b[0m \u001b[1m67s\u001b[0m 671ms/step - loss: 0.1274 - val_loss: 0.1028\n",
      "Epoch 4/200\n",
      "\u001b[1m100/100\u001b[0m \u001b[32m━━━━━━━━━━━━━━━━━━━━\u001b[0m\u001b[37m\u001b[0m \u001b[1m69s\u001b[0m 688ms/step - loss: 0.1243 - val_loss: 0.1047\n",
      "Epoch 5/200\n",
      "\u001b[1m100/100\u001b[0m \u001b[32m━━━━━━━━━━━━━━━━━━━━\u001b[0m\u001b[37m\u001b[0m \u001b[1m61s\u001b[0m 607ms/step - loss: 0.1219 - val_loss: 0.1064\n",
      "Epoch 6/200\n",
      "\u001b[1m100/100\u001b[0m \u001b[32m━━━━━━━━━━━━━━━━━━━━\u001b[0m\u001b[37m\u001b[0m \u001b[1m56s\u001b[0m 560ms/step - loss: 0.1280 - val_loss: 0.1063\n",
      "Epoch 7/200\n",
      "\u001b[1m100/100\u001b[0m \u001b[32m━━━━━━━━━━━━━━━━━━━━\u001b[0m\u001b[37m\u001b[0m \u001b[1m55s\u001b[0m 550ms/step - loss: 0.1260 - val_loss: 0.1059\n",
      "Epoch 8/200\n",
      "\u001b[1m100/100\u001b[0m \u001b[32m━━━━━━━━━━━━━━━━━━━━\u001b[0m\u001b[37m\u001b[0m \u001b[1m58s\u001b[0m 583ms/step - loss: 0.1261 - val_loss: 0.1051\n",
      "Epoch 9/200\n",
      "\u001b[1m100/100\u001b[0m \u001b[32m━━━━━━━━━━━━━━━━━━━━\u001b[0m\u001b[37m\u001b[0m \u001b[1m60s\u001b[0m 595ms/step - loss: 0.1252 - val_loss: 0.1074\n",
      "Epoch 10/200\n",
      "\u001b[1m100/100\u001b[0m \u001b[32m━━━━━━━━━━━━━━━━━━━━\u001b[0m\u001b[37m\u001b[0m \u001b[1m61s\u001b[0m 610ms/step - loss: 0.1217 - val_loss: 0.1015\n",
      "Epoch 11/200\n",
      "\u001b[1m100/100\u001b[0m \u001b[32m━━━━━━━━━━━━━━━━━━━━\u001b[0m\u001b[37m\u001b[0m \u001b[1m55s\u001b[0m 554ms/step - loss: 0.1216 - val_loss: 0.1058\n",
      "Epoch 12/200\n",
      "\u001b[1m100/100\u001b[0m \u001b[32m━━━━━━━━━━━━━━━━━━━━\u001b[0m\u001b[37m\u001b[0m \u001b[1m55s\u001b[0m 550ms/step - loss: 0.1237 - val_loss: 0.1014\n",
      "Epoch 13/200\n",
      "\u001b[1m100/100\u001b[0m \u001b[32m━━━━━━━━━━━━━━━━━━━━\u001b[0m\u001b[37m\u001b[0m \u001b[1m59s\u001b[0m 594ms/step - loss: 0.1264 - val_loss: 0.1087\n",
      "Epoch 14/200\n",
      "\u001b[1m100/100\u001b[0m \u001b[32m━━━━━━━━━━━━━━━━━━━━\u001b[0m\u001b[37m\u001b[0m \u001b[1m59s\u001b[0m 588ms/step - loss: 0.1181 - val_loss: 0.1025\n",
      "Epoch 15/200\n",
      "\u001b[1m100/100\u001b[0m \u001b[32m━━━━━━━━━━━━━━━━━━━━\u001b[0m\u001b[37m\u001b[0m \u001b[1m68s\u001b[0m 683ms/step - loss: 0.1184 - val_loss: 0.1054\n",
      "Epoch 16/200\n",
      "\u001b[1m100/100\u001b[0m \u001b[32m━━━━━━━━━━━━━━━━━━━━\u001b[0m\u001b[37m\u001b[0m \u001b[1m65s\u001b[0m 645ms/step - loss: 0.1154 - val_loss: 0.1010\n",
      "Epoch 17/200\n",
      "\u001b[1m100/100\u001b[0m \u001b[32m━━━━━━━━━━━━━━━━━━━━\u001b[0m\u001b[37m\u001b[0m \u001b[1m57s\u001b[0m 568ms/step - loss: 0.1192 - val_loss: 0.0996\n",
      "Epoch 18/200\n",
      "\u001b[1m100/100\u001b[0m \u001b[32m━━━━━━━━━━━━━━━━━━━━\u001b[0m\u001b[37m\u001b[0m \u001b[1m56s\u001b[0m 557ms/step - loss: 0.1180 - val_loss: 0.0960\n",
      "Epoch 19/200\n",
      "\u001b[1m100/100\u001b[0m \u001b[32m━━━━━━━━━━━━━━━━━━━━\u001b[0m\u001b[37m\u001b[0m \u001b[1m68s\u001b[0m 682ms/step - loss: 0.1205 - val_loss: 0.0959\n",
      "Epoch 20/200\n",
      "\u001b[1m100/100\u001b[0m \u001b[32m━━━━━━━━━━━━━━━━━━━━\u001b[0m\u001b[37m\u001b[0m \u001b[1m71s\u001b[0m 710ms/step - loss: 0.1220 - val_loss: 0.0958\n",
      "Epoch 21/200\n",
      "\u001b[1m100/100\u001b[0m \u001b[32m━━━━━━━━━━━━━━━━━━━━\u001b[0m\u001b[37m\u001b[0m \u001b[1m69s\u001b[0m 685ms/step - loss: 0.1185 - val_loss: 0.1015\n",
      "Epoch 22/200\n",
      "\u001b[1m100/100\u001b[0m \u001b[32m━━━━━━━━━━━━━━━━━━━━\u001b[0m\u001b[37m\u001b[0m \u001b[1m71s\u001b[0m 705ms/step - loss: 0.1222 - val_loss: 0.0978\n",
      "Epoch 23/200\n",
      "\u001b[1m100/100\u001b[0m \u001b[32m━━━━━━━━━━━━━━━━━━━━\u001b[0m\u001b[37m\u001b[0m \u001b[1m68s\u001b[0m 679ms/step - loss: 0.1139 - val_loss: 0.0935\n",
      "Epoch 24/200\n",
      "\u001b[1m100/100\u001b[0m \u001b[32m━━━━━━━━━━━━━━━━━━━━\u001b[0m\u001b[37m\u001b[0m \u001b[1m55s\u001b[0m 545ms/step - loss: 0.1217 - val_loss: 0.0959\n",
      "Epoch 25/200\n",
      "\u001b[1m100/100\u001b[0m \u001b[32m━━━━━━━━━━━━━━━━━━━━\u001b[0m\u001b[37m\u001b[0m \u001b[1m55s\u001b[0m 552ms/step - loss: 0.1166 - val_loss: 0.0942\n",
      "Epoch 26/200\n",
      "\u001b[1m100/100\u001b[0m \u001b[32m━━━━━━━━━━━━━━━━━━━━\u001b[0m\u001b[37m\u001b[0m \u001b[1m58s\u001b[0m 582ms/step - loss: 0.1207 - val_loss: 0.0994\n",
      "Epoch 27/200\n",
      "\u001b[1m100/100\u001b[0m \u001b[32m━━━━━━━━━━━━━━━━━━━━\u001b[0m\u001b[37m\u001b[0m \u001b[1m56s\u001b[0m 557ms/step - loss: 0.1156 - val_loss: 0.1017\n",
      "Epoch 28/200\n",
      "\u001b[1m100/100\u001b[0m \u001b[32m━━━━━━━━━━━━━━━━━━━━\u001b[0m\u001b[37m\u001b[0m \u001b[1m56s\u001b[0m 565ms/step - loss: 0.1124 - val_loss: 0.0998\n",
      "Epoch 29/200\n",
      "\u001b[1m100/100\u001b[0m \u001b[32m━━━━━━━━━━━━━━━━━━━━\u001b[0m\u001b[37m\u001b[0m \u001b[1m55s\u001b[0m 554ms/step - loss: 0.1201 - val_loss: 0.1015\n",
      "Epoch 30/200\n",
      "\u001b[1m100/100\u001b[0m \u001b[32m━━━━━━━━━━━━━━━━━━━━\u001b[0m\u001b[37m\u001b[0m \u001b[1m55s\u001b[0m 554ms/step - loss: 0.1166 - val_loss: 0.0967\n",
      "Epoch 31/200\n",
      "\u001b[1m100/100\u001b[0m \u001b[32m━━━━━━━━━━━━━━━━━━━━\u001b[0m\u001b[37m\u001b[0m \u001b[1m59s\u001b[0m 588ms/step - loss: 0.1198 - val_loss: 0.0908\n",
      "Epoch 32/200\n",
      "\u001b[1m100/100\u001b[0m \u001b[32m━━━━━━━━━━━━━━━━━━━━\u001b[0m\u001b[37m\u001b[0m \u001b[1m55s\u001b[0m 556ms/step - loss: 0.1160 - val_loss: 0.0900\n",
      "Epoch 33/200\n",
      "\u001b[1m100/100\u001b[0m \u001b[32m━━━━━━━━━━━━━━━━━━━━\u001b[0m\u001b[37m\u001b[0m \u001b[1m57s\u001b[0m 574ms/step - loss: 0.1143 - val_loss: 0.0957\n",
      "Epoch 34/200\n",
      "\u001b[1m100/100\u001b[0m \u001b[32m━━━━━━━━━━━━━━━━━━━━\u001b[0m\u001b[37m\u001b[0m \u001b[1m61s\u001b[0m 610ms/step - loss: 0.1143 - val_loss: 0.0974\n",
      "Epoch 35/200\n",
      "\u001b[1m100/100\u001b[0m \u001b[32m━━━━━━━━━━━━━━━━━━━━\u001b[0m\u001b[37m\u001b[0m \u001b[1m57s\u001b[0m 571ms/step - loss: 0.1096 - val_loss: 0.0991\n",
      "Epoch 36/200\n",
      "\u001b[1m100/100\u001b[0m \u001b[32m━━━━━━━━━━━━━━━━━━━━\u001b[0m\u001b[37m\u001b[0m \u001b[1m57s\u001b[0m 568ms/step - loss: 0.1146 - val_loss: 0.0968\n",
      "Epoch 37/200\n",
      "\u001b[1m100/100\u001b[0m \u001b[32m━━━━━━━━━━━━━━━━━━━━\u001b[0m\u001b[37m\u001b[0m \u001b[1m60s\u001b[0m 606ms/step - loss: 0.1172 - val_loss: 0.0975\n",
      "Epoch 38/200\n",
      "\u001b[1m100/100\u001b[0m \u001b[32m━━━━━━━━━━━━━━━━━━━━\u001b[0m\u001b[37m\u001b[0m \u001b[1m57s\u001b[0m 575ms/step - loss: 0.1114 - val_loss: 0.0958\n",
      "Epoch 39/200\n",
      "\u001b[1m100/100\u001b[0m \u001b[32m━━━━━━━━━━━━━━━━━━━━\u001b[0m\u001b[37m\u001b[0m \u001b[1m58s\u001b[0m 580ms/step - loss: 0.1096 - val_loss: 0.1003\n",
      "Epoch 40/200\n",
      "\u001b[1m100/100\u001b[0m \u001b[32m━━━━━━━━━━━━━━━━━━━━\u001b[0m\u001b[37m\u001b[0m \u001b[1m58s\u001b[0m 576ms/step - loss: 0.1153 - val_loss: 0.0943\n",
      "Epoch 41/200\n",
      "\u001b[1m100/100\u001b[0m \u001b[32m━━━━━━━━━━━━━━━━━━━━\u001b[0m\u001b[37m\u001b[0m \u001b[1m57s\u001b[0m 577ms/step - loss: 0.1142 - val_loss: 0.0929\n",
      "Epoch 42/200\n",
      "\u001b[1m100/100\u001b[0m \u001b[32m━━━━━━━━━━━━━━━━━━━━\u001b[0m\u001b[37m\u001b[0m \u001b[1m57s\u001b[0m 569ms/step - loss: 0.1104 - val_loss: 0.0904\n",
      "Epoch 42: early stopping\n",
      "Restoring model weights from the end of the best epoch: 32.\n"
     ]
    },
    {
     "data": {
      "image/png": "[encoded data removed]",
      "text/plain": [
       "<Figure size 640x480 with 1 Axes>"
      ]
     },
     "metadata": {},
     "output_type": "display_data"
    }
   ],
   "source": [
    "trainer.train(resume_training=True, weights='./weights/lstm-emb128-2rnn128-1dense256-v2.weights.h5')"
   ]
  },
  {
   "cell_type": "code",
   "execution_count": 158,
   "metadata": {},
   "outputs": [
    {
     "name": "stdout",
     "output_type": "stream",
     "text": [
      "Model saved at ./weights/lstm-emb128-2rnn128-1dense256-v3.weights.h5\n"
     ]
    }
   ],
   "source": [
    "trainer.save()"
   ]
  },
  {
   "cell_type": "code",
   "execution_count": 159,
   "metadata": {},
   "outputs": [
    {
     "name": "stdout",
     "output_type": "stream",
     "text": [
      "INFO:tensorflow:Assets written to: ./servants/lstm-emb128-2rnn128-1dense256-v3\\assets\n"
     ]
    },
    {
     "name": "stderr",
     "output_type": "stream",
     "text": [
      "INFO:tensorflow:Assets written to: ./servants/lstm-emb128-2rnn128-1dense256-v3\\assets\n"
     ]
    },
    {
     "name": "stdout",
     "output_type": "stream",
     "text": [
      "Saved artifact at './servants/lstm-emb128-2rnn128-1dense256-v3'. The following endpoints are available:\n",
      "\n",
      "* Endpoint 'serve'\n",
      "  args_0 (POSITIONAL_ONLY): TensorSpec(shape=(None, None), dtype=tf.float32, name=None)\n",
      "Output Type:\n",
      "  TensorSpec(shape=(None, None, 18), dtype=tf.float32, name=None)\n",
      "Captures:\n",
      "  2504773468624: TensorSpec(shape=(), dtype=tf.resource, name=None)\n",
      "  2504636988304: TensorSpec(shape=(), dtype=tf.resource, name=None)\n",
      "  2504773469968: TensorSpec(shape=(), dtype=tf.resource, name=None)\n",
      "  2504773470160: TensorSpec(shape=(), dtype=tf.resource, name=None)\n",
      "  2504773471696: TensorSpec(shape=(), dtype=tf.resource, name=None)\n",
      "  2504636989072: TensorSpec(shape=(), dtype=tf.resource, name=None)\n",
      "  2504773469200: TensorSpec(shape=(), dtype=tf.resource, name=None)\n",
      "  2504773471120: TensorSpec(shape=(), dtype=tf.resource, name=None)\n",
      "  2504773472848: TensorSpec(shape=(), dtype=tf.resource, name=None)\n",
      "  2504773469008: TensorSpec(shape=(), dtype=tf.resource, name=None)\n",
      "  2504773473040: TensorSpec(shape=(), dtype=tf.resource, name=None)\n",
      "  2504773471312: TensorSpec(shape=(), dtype=tf.resource, name=None)\n",
      "  2504773474000: TensorSpec(shape=(), dtype=tf.resource, name=None)\n",
      "  2504773469392: TensorSpec(shape=(), dtype=tf.resource, name=None)\n",
      "  2504773472272: TensorSpec(shape=(), dtype=tf.resource, name=None)\n",
      "  2504773472464: TensorSpec(shape=(), dtype=tf.resource, name=None)\n",
      "  2504773475152: TensorSpec(shape=(), dtype=tf.resource, name=None)\n",
      "  2504773475344: TensorSpec(shape=(), dtype=tf.resource, name=None)\n",
      "  2504773473616: TensorSpec(shape=(), dtype=tf.resource, name=None)\n",
      "  2504773475536: TensorSpec(shape=(), dtype=tf.resource, name=None)\n",
      "  2504773476304: TensorSpec(shape=(), dtype=tf.resource, name=None)\n",
      "Servant saved at ./servants/lstm-emb128-2rnn128-1dense256-v3\n"
     ]
    }
   ],
   "source": [
    "trainer.save_servant()"
   ]
  },
  {
   "cell_type": "code",
   "execution_count": 46,
   "metadata": {},
   "outputs": [
    {
     "name": "stdout",
     "output_type": "stream",
     "text": [
      "\u001b[1m100/100\u001b[0m \u001b[32m━━━━━━━━━━━━━━━━━━━━\u001b[0m\u001b[37m\u001b[0m \u001b[1m27s\u001b[0m 253ms/step - loss: 0.1226\n"
     ]
    },
    {
     "data": {
      "text/plain": [
       "0.12473190575838089"
      ]
     },
     "execution_count": 46,
     "metadata": {},
     "output_type": "execute_result"
    }
   ],
   "source": [
    "trainer.model.evaluate(ca_test.take(100))"
   ]
  },
  {
   "cell_type": "code",
   "execution_count": 5,
   "metadata": {},
   "outputs": [
    {
     "name": "stderr",
     "output_type": "stream",
     "text": [
      "<>:1: SyntaxWarning: invalid escape sequence '\\l'\n",
      "<>:1: SyntaxWarning: invalid escape sequence '\\l'\n",
      "C:\\Users\\PrinceEGY\\AppData\\Local\\Temp\\ipykernel_40952\\3704592007.py:1: SyntaxWarning: invalid escape sequence '\\l'\n",
      "  diacritizer = Diacritizer(\"servants\\lstm-emb128-2rnn128-1dense256\", letters_tok, diac_tok)\n"
     ]
    }
   ],
   "source": [
    "diacritizer = Diacritizer(\"servants\\lstm-emb128-2rnn128-1dense256\", letters_tok, diac_tok)"
   ]
  },
  {
   "cell_type": "code",
   "execution_count": 6,
   "metadata": {},
   "outputs": [
    {
     "name": "stderr",
     "output_type": "stream",
     "text": [
      "<>:1: SyntaxWarning: invalid escape sequence '\\g'\n",
      "<>:1: SyntaxWarning: invalid escape sequence '\\g'\n",
      "C:\\Users\\PrinceEGY\\AppData\\Local\\Temp\\ipykernel_40952\\1843825569.py:1: SyntaxWarning: invalid escape sequence '\\g'\n",
      "  diacritizer2 = Diacritizer(\"servants\\gru-emb128-2rnn128-1dense256\", letters_tok, diac_tok)\n"
     ]
    }
   ],
   "source": [
    "diacritizer2 = Diacritizer(\"servants\\gru-emb128-2rnn128-1dense256\", letters_tok, diac_tok)"
   ]
  },
  {
   "cell_type": "code",
   "execution_count": 7,
   "metadata": {},
   "outputs": [
    {
     "name": "stderr",
     "output_type": "stream",
     "text": [
      "<>:1: SyntaxWarning: invalid escape sequence '\\l'\n",
      "<>:1: SyntaxWarning: invalid escape sequence '\\l'\n",
      "C:\\Users\\PrinceEGY\\AppData\\Local\\Temp\\ipykernel_40952\\1635509826.py:1: SyntaxWarning: invalid escape sequence '\\l'\n",
      "  diacritizer3 = Diacritizer(\"servants\\lstm-emb128-2rnn128-1dense256-v2\", letters_tok, diac_tok)\n"
     ]
    }
   ],
   "source": [
    "diacritizer3 = Diacritizer(\"servants\\lstm-emb128-2rnn128-1dense256-v2\", letters_tok, diac_tok)"
   ]
  },
  {
   "cell_type": "code",
   "execution_count": 8,
   "metadata": {},
   "outputs": [
    {
     "name": "stderr",
     "output_type": "stream",
     "text": [
      "<>:1: SyntaxWarning: invalid escape sequence '\\l'\n",
      "<>:1: SyntaxWarning: invalid escape sequence '\\l'\n",
      "C:\\Users\\PrinceEGY\\AppData\\Local\\Temp\\ipykernel_40952\\338063468.py:1: SyntaxWarning: invalid escape sequence '\\l'\n",
      "  diacritizer4 = Diacritizer(\"servants\\lstm-emb128-2rnn128-1dense256-v3\", letters_tok, diac_tok)\n"
     ]
    }
   ],
   "source": [
    "diacritizer4 = Diacritizer(\"servants\\lstm-emb128-2rnn128-1dense256-v3\", letters_tok, diac_tok)"
   ]
  },
  {
   "cell_type": "code",
   "execution_count": 25,
   "metadata": {},
   "outputs": [],
   "source": [
    "tx = \"هذا النص هو مثال لنص يمكن أن يستبدل في نفس المساحة، لقد تم توليد هذا النص من مولد النص العربى، حيث يمكنك أن تولد مثل هذا النص أو العديد من النصوص الأخرى إضافة إلى زيادة عدد الحروف التى يولدها التطبيق.\""
   ]
  },
  {
   "cell_type": "code",
   "execution_count": 26,
   "metadata": {},
   "outputs": [
    {
     "data": {
      "text/plain": [
       "'هَذَا النَّصُّ هُوَ مِثَالٌ لِنَصٍّ يُمْكِنُ أَنْ يَسْتَبْدِلَ فِي نَفْسِ الْمِسَاحَةِ، لَقَدْ تَمَّ تَوْلِيدَ هَذَا النَّصِّ مِنْ مَوَلِدِ النَّصِّ الْعُرْبِىِّ، حَيْثُ يُمْكِنُكَ أَنْ تَوَلِّدَ مِثْلَ هَذَا النَّصِّ أَوْ الْعَدِيدِ مِنْ النُّصُوصِ الْأُخْرَى إضَافَةٌ إلَى زِيَادَةِ عَدَدِ الْحُرُوفِ الَّتَّى يُولِّدُهَا التَّطْبِيقُ.'"
      ]
     },
     "execution_count": 26,
     "metadata": {},
     "output_type": "execute_result"
    }
   ],
   "source": [
    "diacritizer.diacritize(tx)"
   ]
  },
  {
   "cell_type": "code",
   "execution_count": 27,
   "metadata": {},
   "outputs": [
    {
     "data": {
      "text/plain": [
       "'هَذَا النِّصٌّ هُوَ مِثَالٌ لِنَصُّ يُمْكِنُ أَنْ يَسْتَبْدِلَ فِي نَفْسِ الْمُسَاحَةِ، لَقَدْ تَمِّ تَوْلِيدُ هَذَا النِّصٌّ مِنْ مَوْلِدِ النِّصُّ الْعُرْبِىٌّ، حَيْثُ يُمْكَنِكُ أَنْ تَوَلِّدَ مِثْلُ هَذَا النِّصُّ أَوْ الْعَدِيدِ مِنْ النٌّصُوصِ الْأُخْرَى إضَافَةٌ إلَى زِيَادَةِ عَدْدِ الْحُرُوفِ الِّتِى يُولُّدُهَا التِّطْبِيقُ.'"
      ]
     },
     "execution_count": 27,
     "metadata": {},
     "output_type": "execute_result"
    }
   ],
   "source": [
    "diacritizer2.diacritize(tx)"
   ]
  },
  {
   "cell_type": "code",
   "execution_count": 28,
   "metadata": {},
   "outputs": [
    {
     "data": {
      "text/plain": [
       "'هَذَا النَّصُّ هُوَ مِثَالٌ لِنَصٍّ يُمْكِنُ أَنْ يَسْتَبْدِلَ فِي نَفْسِ الْمَسَاحَةِ، لَقَدْ تَمَّ تَوْلِيدُ هَذَا النَّصِّ مِنْ مَوَلَّدِ النَّصِّ الْعُرَبَىُّ، حَيْثُ يُمْكِنُكَ أَنْ تُوَلَدَ مِثْلُ هَذَا النَّصِّ أَوْ الْعَدِيدِ مِنْ النُّصُوصِ الْأُخْرَى إضَافَةٌ إلَى زِيَادَةِ عَدَدِ الْحُرُوفِ الَّتِى يُوَلِّدُهَا التَّطْبِيقُ.'"
      ]
     },
     "execution_count": 28,
     "metadata": {},
     "output_type": "execute_result"
    }
   ],
   "source": [
    "diacritizer3.diacritize(tx)"
   ]
  },
  {
   "cell_type": "code",
   "execution_count": 29,
   "metadata": {},
   "outputs": [
    {
     "data": {
      "text/plain": [
       "'هَذَا النَّصُّ هُوَ مِثَالٌ لِنَصٍّ يُمْكِنُ أَنْ يَسْتَبْدِلَ فِي نَفْسِ الْمَسَاحَّةِ، لَقَدْ تَمَّ تَوْلِيدُ هَذَا النَّصِّ مِنْ مُوَلَّدِ النَّصِّ الْعَرَبِىِّ، حَيْثُ يُمْكِنُكَ أَنْ تُوَلَّدَ مِثْلُ هَذَا النَّصِّ أَوْ الْعَدِيدِ مِنْ النُّصُوصِ الْأُخْرَى إضَافَةٌ إلَى زِيَادَةِ عَدَدِ الْحُرُوفِ الَّتِى يُوَلِّدُهَا التَّطْبِيقُ.'"
      ]
     },
     "execution_count": 29,
     "metadata": {},
     "output_type": "execute_result"
    }
   ],
   "source": [
    "diacritizer4.diacritize(tx)"
   ]
  },
  {
   "cell_type": "code",
   "execution_count": null,
   "metadata": {},
   "outputs": [],
   "source": []
  },
  {
   "cell_type": "code",
   "execution_count": null,
   "metadata": {},
   "outputs": [],
   "source": []
  }
 ],
 "metadata": {
  "kernelspec": {
   "display_name": "Shakkel",
   "language": "python",
   "name": "shakkel"
  },
  "language_info": {
   "codemirror_mode": {
    "name": "ipython",
    "version": 3
   },
   "file_extension": ".py",
   "mimetype": "text/x-python",
   "name": "python",
   "nbconvert_exporter": "python",
   "pygments_lexer": "ipython3",
   "version": "3.12.3"
  }
 },
 "nbformat": 4,
 "nbformat_minor": 2
}
