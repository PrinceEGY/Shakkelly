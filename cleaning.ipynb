{
 "cells": [
  {
   "cell_type": "code",
   "execution_count": 1,
   "metadata": {},
   "outputs": [],
   "source": [
    "from utils import constants\n",
    "from utils.preprocessor import Preprocessor\n",
    "from pyarabic import araby\n",
    "from tqdm import tqdm\n",
    "from utils.combine_docs import combine_CA, combine_MSA\n",
    "from utils.utils import save_string_to_file, load_string_from_file\n",
    "import matplotlib.pyplot as plt\n",
    "import pandas as pd"
   ]
  },
  {
   "cell_type": "code",
   "execution_count": 3,
   "metadata": {},
   "outputs": [],
   "source": [
    "CA_PATH = r\"dataset\\Tashkeela-arabic-diacritized-text-utf8-0.3\\texts.txt\"\n",
    "MSA_PATH = r\"dataset\\Tashkeela-arabic-diacritized-text-utf8-0.3\\texts.txt\\MSA\""
   ]
  },
  {
   "cell_type": "code",
   "execution_count": 4,
   "metadata": {},
   "outputs": [
    {
     "name": "stderr",
     "output_type": "stream",
     "text": [
      "100%|██████████| 97/97 [00:09<00:00, 10.69it/s]\n"
     ]
    }
   ],
   "source": [
    "combine_CA(CA_PATH, './dataset/v0/CA.txt')"
   ]
  },
  {
   "cell_type": "code",
   "execution_count": 5,
   "metadata": {},
   "outputs": [
    {
     "name": "stderr",
     "output_type": "stream",
     "text": [
      "100%|██████████| 293/293 [00:00<00:00, 2653.51it/s]\n"
     ]
    }
   ],
   "source": [
    "combine_MSA(MSA_PATH, './dataset/v0/MSA.txt')"
   ]
  },
  {
   "cell_type": "markdown",
   "metadata": {},
   "source": []
  },
  {
   "cell_type": "code",
   "execution_count": 2,
   "metadata": {},
   "outputs": [],
   "source": [
    "with open('./dataset/v0/CA.txt', 'r') as f:\n",
    "    ca_docs = f.readlines()"
   ]
  },
  {
   "cell_type": "code",
   "execution_count": 3,
   "metadata": {},
   "outputs": [],
   "source": [
    "with open('./dataset/v0/MSA.txt', 'r') as f:\n",
    "    msa_docs = f.readlines()"
   ]
  },
  {
   "cell_type": "code",
   "execution_count": 4,
   "metadata": {},
   "outputs": [],
   "source": [
    "ca_txt = \"\\n\".join(ca_docs)\n",
    "msa_txt = \"\\n\".join(msa_docs)"
   ]
  },
  {
   "cell_type": "code",
   "execution_count": 5,
   "metadata": {},
   "outputs": [
    {
     "name": "stdout",
     "output_type": "stream",
     "text": [
      "Classical Arabic (CA) size: 584,810,861\n",
      "Modern Standard Arabic (MSA) size: 14,122,305\n"
     ]
    }
   ],
   "source": [
    "ca_txt_ln = len(ca_txt)\n",
    "msa_txt_ln = len(msa_txt)\n",
    "print(f\"Classical Arabic (CA) size: {ca_txt_ln:,}\", f\"Modern Standard Arabic (MSA) size: {msa_txt_ln:,}\", sep='\\n')"
   ]
  },
  {
   "cell_type": "markdown",
   "metadata": {},
   "source": [
    "### Replacing newlines with white spaces and removing extra whitespaces"
   ]
  },
  {
   "cell_type": "code",
   "execution_count": 6,
   "metadata": {},
   "outputs": [],
   "source": [
    "msa_txt_new = Preprocessor().replace_newline(msa_txt)\n",
    "msa_txt_new = Preprocessor().collapse_whitespace(msa_txt_new)"
   ]
  },
  {
   "cell_type": "code",
   "execution_count": 7,
   "metadata": {},
   "outputs": [],
   "source": [
    "ca_txt_new = Preprocessor().replace_newline(ca_txt)\n",
    "ca_txt_new = Preprocessor().collapse_whitespace(ca_txt_new)"
   ]
  },
  {
   "cell_type": "code",
   "execution_count": 8,
   "metadata": {},
   "outputs": [
    {
     "name": "stdout",
     "output_type": "stream",
     "text": [
      "Classical Arabic (CA) new size: 582,923,093\n",
      "Modern Standard Arabic (MSA) new size: 13,920,265\n",
      "Classical Arabic (CA) #removed characters: 1,887,768\n",
      "Modern Standard Arabic (MSA) #removed characters: 202,040\n"
     ]
    }
   ],
   "source": [
    "ca_txt_new_ln = len(ca_txt_new)\n",
    "msa_txt_new_ln = len(msa_txt_new)\n",
    "print(f\"Classical Arabic (CA) new size: {ca_txt_new_ln:,}\", f\"Modern Standard Arabic (MSA) new size: {msa_txt_new_ln:,}\", sep='\\n')\n",
    "print(f\"Classical Arabic (CA) #removed characters: {ca_txt_ln - ca_txt_new_ln:,}\", f\"Modern Standard Arabic (MSA) #removed characters: {msa_txt_ln-msa_txt_new_ln:,}\", sep='\\n')"
   ]
  },
  {
   "cell_type": "markdown",
   "metadata": {},
   "source": [
    "### Remove non arabic characters"
   ]
  },
  {
   "cell_type": "code",
   "execution_count": 10,
   "metadata": {},
   "outputs": [],
   "source": [
    "def remove_non_arabic(text, n_chunks=8):\n",
    "    # Processing the text as a whole causes high CPU usage,\n",
    "    # and unexpected behavior causing very high Disk usage (up to 30GB, ) during the process,\n",
    "    # maybe due to some caching mechansim or something\n",
    "    # By processing the text in chunks, those problems are mitigated (from ~9min to ~1.5min)\n",
    "    chunk_size = len(text) // n_chunks\n",
    "    filtered_chunks = []\n",
    "    with tqdm(total=len(text), desc='Filtering non-arabic characters', unit='chars') as pbar:\n",
    "        for i in range(0, len(text), chunk_size):\n",
    "            chunk = text[i:i+chunk_size]\n",
    "            filtered_chunk = ''.join([char for char in chunk if char in constants.VALID_ARABIC])\n",
    "            filtered_chunks.append(filtered_chunk)\n",
    "            pbar.update(chunk_size)\n",
    "    \n",
    "    filtered_text = ''.join(filtered_chunks)\n",
    "    return filtered_text"
   ]
  },
  {
   "cell_type": "code",
   "execution_count": 11,
   "metadata": {},
   "outputs": [
    {
     "name": "stderr",
     "output_type": "stream",
     "text": [
      "Filtering non-arabic characters: 15660297chars [00:02, 7379016.95chars/s]                           \n"
     ]
    }
   ],
   "source": [
    "msa_txt_clean = remove_non_arabic(msa_txt_new)"
   ]
  },
  {
   "cell_type": "code",
   "execution_count": 12,
   "metadata": {},
   "outputs": [
    {
     "name": "stderr",
     "output_type": "stream",
     "text": [
      "Filtering non-arabic characters:   0%|          | 0/582923093 [00:00<?, ?chars/s]"
     ]
    },
    {
     "name": "stderr",
     "output_type": "stream",
     "text": [
      "Filtering non-arabic characters: 655788474chars [01:28, 7451151.15chars/s]                            \n"
     ]
    }
   ],
   "source": [
    "ca_txt_clean = remove_non_arabic(ca_txt_new)"
   ]
  },
  {
   "cell_type": "code",
   "execution_count": 13,
   "metadata": {},
   "outputs": [
    {
     "name": "stdout",
     "output_type": "stream",
     "text": [
      "Classical Arabic (CA) new size: 575,620,372\n",
      "Modern Standard Arabic (MSA) new size: 13,661,775\n",
      "Classical Arabic (CA) #removed characters: 7,302,721\n",
      "Modern Standard Arabic (MSA) #removed characters: 258,490\n"
     ]
    }
   ],
   "source": [
    "ca_txt_clean_ln = len(ca_txt_clean)\n",
    "msa_txt_clean_ln = len(msa_txt_clean)\n",
    "print(f\"Classical Arabic (CA) new size: {ca_txt_clean_ln:,}\", f\"Modern Standard Arabic (MSA) new size: {msa_txt_clean_ln:,}\", sep='\\n')\n",
    "print(f\"Classical Arabic (CA) #removed characters: {ca_txt_new_ln - ca_txt_clean_ln:,}\", f\"Modern Standard Arabic (MSA) #removed characters: {msa_txt_new_ln-msa_txt_clean_ln:,}\", sep='\\n')"
   ]
  },
  {
   "cell_type": "code",
   "execution_count": 45,
   "metadata": {},
   "outputs": [],
   "source": [
    "save_string_to_file(ca_txt_clean, './dataset/v1/CA.txt')\n",
    "save_string_to_file(msa_txt_clean, './dataset/v1/MSA.txt')"
   ]
  },
  {
   "cell_type": "code",
   "execution_count": 49,
   "metadata": {},
   "outputs": [
    {
     "name": "stdout",
     "output_type": "stream",
     "text": [
      "total number of characters removed in Classical Arabic (CA): 9,190,489\n",
      "total number of characters removed in Modern Standard Arabic (MSA): 460,530\n"
     ]
    }
   ],
   "source": [
    "print(f\"total number of characters removed in Classical Arabic (CA): {ca_txt_ln - ca_txt_clean_ln:,}\")\n",
    "print(f\"total number of characters removed in Modern Standard Arabic (MSA): {msa_txt_ln - msa_txt_clean_ln:,}\")"
   ]
  },
  {
   "cell_type": "markdown",
   "metadata": {},
   "source": [
    "### Splitting"
   ]
  },
  {
   "cell_type": "code",
   "execution_count": 28,
   "metadata": {},
   "outputs": [],
   "source": [
    "ca_txt = load_string_from_file('./dataset/v1/CA.txt')\n",
    "msa_txt = load_string_from_file('./dataset/v1/MSA.txt')"
   ]
  },
  {
   "cell_type": "code",
   "execution_count": 29,
   "metadata": {},
   "outputs": [
    {
     "name": "stdout",
     "output_type": "stream",
     "text": [
      "572,994,271 | 6,845,300\n"
     ]
    }
   ],
   "source": [
    "print(f\"{len(ca_txt):,}\", f\"{len(msa_txt):,}\", sep=' | ')"
   ]
  },
  {
   "cell_type": "code",
   "execution_count": 30,
   "metadata": {},
   "outputs": [],
   "source": [
    "for punc in constants.PUNCTUATIONS:\n",
    "    ca_txt = ca_txt.replace(punc, '.')\n",
    "    msa_txt = msa_txt.replace(punc, '.')"
   ]
  },
  {
   "cell_type": "code",
   "execution_count": 31,
   "metadata": {},
   "outputs": [],
   "source": [
    "ca_split = ca_txt.split(\".\")\n",
    "msa_split = msa_txt.split(\".\")"
   ]
  },
  {
   "cell_type": "code",
   "execution_count": 63,
   "metadata": {},
   "outputs": [
    {
     "name": "stdout",
     "output_type": "stream",
     "text": [
      "Classical Arabic (CA) #sentences: 7,743,137\n",
      "Modern Standard Arabic (MSA) #sentences: 258,853\n"
     ]
    }
   ],
   "source": [
    "print(f\"Classical Arabic (CA) #sentences: {len(ca_split):,}\", f\"Modern Standard Arabic (MSA) #sentences: {len(msa_split):,}\", sep='\\n')"
   ]
  },
  {
   "cell_type": "code",
   "execution_count": 88,
   "metadata": {},
   "outputs": [],
   "source": [
    "ca_sorted = sorted(ca_split, key=lambda x: len(x.split()))\n",
    "msa_sorted = sorted(msa_split, key=lambda x: len(x.split()))"
   ]
  },
  {
   "cell_type": "code",
   "execution_count": 97,
   "metadata": {},
   "outputs": [],
   "source": [
    "import pandas as pd"
   ]
  },
  {
   "cell_type": "code",
   "execution_count": 244,
   "metadata": {},
   "outputs": [],
   "source": [
    "ca_dfv0 = pd.DataFrame(ca_sorted, columns=['text'])\n",
    "msa_dfv0 = pd.DataFrame(msa_sorted, columns=['text'])"
   ]
  },
  {
   "cell_type": "code",
   "execution_count": 342,
   "metadata": {},
   "outputs": [],
   "source": [
    "ca_dfv0['text'] = ca_dfv0['text'].apply(lambda x: x.strip())\n",
    "msa_dfv0['text'] = msa_dfv0['text'].apply(lambda x: x.strip())"
   ]
  },
  {
   "cell_type": "code",
   "execution_count": 343,
   "metadata": {},
   "outputs": [],
   "source": [
    "ca_dfv0['words'] = ca_dfv0['text'].apply(lambda x: len(x.split()))\n",
    "msa_dfv0['words'] = msa_dfv0['text'].apply(lambda x: len(x.split()))"
   ]
  },
  {
   "cell_type": "code",
   "execution_count": 344,
   "metadata": {},
   "outputs": [],
   "source": [
    "ca_dfv0['chars'] = ca_dfv0['text'].apply(lambda x: len(x))\n",
    "msa_dfv0['chars'] = msa_dfv0['text'].apply(lambda x: len(x))"
   ]
  },
  {
   "cell_type": "code",
   "execution_count": 345,
   "metadata": {},
   "outputs": [],
   "source": [
    "ca_dfv0['chars_no_diac'] = ca_dfv0['text'].apply(lambda x: len(araby.strip_diacritics(x)))\n",
    "msa_dfv0['chars_no_diac'] = msa_dfv0['text'].apply(lambda x: len(araby.strip_diacritics(x)))"
   ]
  },
  {
   "cell_type": "code",
   "execution_count": 346,
   "metadata": {},
   "outputs": [
    {
     "data": {
      "text/html": [
       "<div>\n",
       "<style scoped>\n",
       "    .dataframe tbody tr th:only-of-type {\n",
       "        vertical-align: middle;\n",
       "    }\n",
       "\n",
       "    .dataframe tbody tr th {\n",
       "        vertical-align: top;\n",
       "    }\n",
       "\n",
       "    .dataframe thead th {\n",
       "        text-align: right;\n",
       "    }\n",
       "</style>\n",
       "<table border=\"1\" class=\"dataframe\">\n",
       "  <thead>\n",
       "    <tr style=\"text-align: right;\">\n",
       "      <th></th>\n",
       "      <th>text</th>\n",
       "      <th>words</th>\n",
       "      <th>chars</th>\n",
       "      <th>chars_no_diac</th>\n",
       "    </tr>\n",
       "  </thead>\n",
       "  <tbody>\n",
       "    <tr>\n",
       "      <th>0</th>\n",
       "      <td></td>\n",
       "      <td>0</td>\n",
       "      <td>0</td>\n",
       "      <td>0</td>\n",
       "    </tr>\n",
       "    <tr>\n",
       "      <th>1</th>\n",
       "      <td></td>\n",
       "      <td>0</td>\n",
       "      <td>0</td>\n",
       "      <td>0</td>\n",
       "    </tr>\n",
       "    <tr>\n",
       "      <th>2</th>\n",
       "      <td></td>\n",
       "      <td>0</td>\n",
       "      <td>0</td>\n",
       "      <td>0</td>\n",
       "    </tr>\n",
       "    <tr>\n",
       "      <th>3</th>\n",
       "      <td></td>\n",
       "      <td>0</td>\n",
       "      <td>0</td>\n",
       "      <td>0</td>\n",
       "    </tr>\n",
       "    <tr>\n",
       "      <th>4</th>\n",
       "      <td></td>\n",
       "      <td>0</td>\n",
       "      <td>0</td>\n",
       "      <td>0</td>\n",
       "    </tr>\n",
       "    <tr>\n",
       "      <th>...</th>\n",
       "      <td>...</td>\n",
       "      <td>...</td>\n",
       "      <td>...</td>\n",
       "      <td>...</td>\n",
       "    </tr>\n",
       "    <tr>\n",
       "      <th>7743132</th>\n",
       "      <td>فَصْلٌ وَقَوْلُهُ صَلَّى اللَّهُ عَلَيْهِ وَسَ...</td>\n",
       "      <td>557</td>\n",
       "      <td>4726</td>\n",
       "      <td>2813</td>\n",
       "    </tr>\n",
       "    <tr>\n",
       "      <th>7743133</th>\n",
       "      <td>مَسْأَلَةٌ إِذَا ثَبَتَ ذَلِكَ فَالْوَقْتُ الّ...</td>\n",
       "      <td>597</td>\n",
       "      <td>5277</td>\n",
       "      <td>3144</td>\n",
       "    </tr>\n",
       "    <tr>\n",
       "      <th>7743134</th>\n",
       "      <td>قَالَ بَعْضهمْ فِي هَذَا قَوْلَانِ أَحَدهمَا أ...</td>\n",
       "      <td>607</td>\n",
       "      <td>5139</td>\n",
       "      <td>3202</td>\n",
       "    </tr>\n",
       "    <tr>\n",
       "      <th>7743135</th>\n",
       "      <td>فَصْلٌ وَقَوْلُهُ فَأَمْلَتْ عَلَيَّ حَافِظُوا...</td>\n",
       "      <td>679</td>\n",
       "      <td>6003</td>\n",
       "      <td>3625</td>\n",
       "    </tr>\n",
       "    <tr>\n",
       "      <th>7743136</th>\n",
       "      <td>فَصْلٌ وَقَوْلُهُ غَسَلَ رِجْلَيْهِ يَقْتَضِي ...</td>\n",
       "      <td>762</td>\n",
       "      <td>6448</td>\n",
       "      <td>3837</td>\n",
       "    </tr>\n",
       "  </tbody>\n",
       "</table>\n",
       "<p>7743137 rows × 4 columns</p>\n",
       "</div>"
      ],
      "text/plain": [
       "                                                      text  words  chars  \\\n",
       "0                                                               0      0   \n",
       "1                                                               0      0   \n",
       "2                                                               0      0   \n",
       "3                                                               0      0   \n",
       "4                                                               0      0   \n",
       "...                                                    ...    ...    ...   \n",
       "7743132  فَصْلٌ وَقَوْلُهُ صَلَّى اللَّهُ عَلَيْهِ وَسَ...    557   4726   \n",
       "7743133  مَسْأَلَةٌ إِذَا ثَبَتَ ذَلِكَ فَالْوَقْتُ الّ...    597   5277   \n",
       "7743134  قَالَ بَعْضهمْ فِي هَذَا قَوْلَانِ أَحَدهمَا أ...    607   5139   \n",
       "7743135  فَصْلٌ وَقَوْلُهُ فَأَمْلَتْ عَلَيَّ حَافِظُوا...    679   6003   \n",
       "7743136  فَصْلٌ وَقَوْلُهُ غَسَلَ رِجْلَيْهِ يَقْتَضِي ...    762   6448   \n",
       "\n",
       "         chars_no_diac  \n",
       "0                    0  \n",
       "1                    0  \n",
       "2                    0  \n",
       "3                    0  \n",
       "4                    0  \n",
       "...                ...  \n",
       "7743132           2813  \n",
       "7743133           3144  \n",
       "7743134           3202  \n",
       "7743135           3625  \n",
       "7743136           3837  \n",
       "\n",
       "[7743137 rows x 4 columns]"
      ]
     },
     "execution_count": 346,
     "metadata": {},
     "output_type": "execute_result"
    }
   ],
   "source": [
    "ca_dfv0"
   ]
  },
  {
   "cell_type": "code",
   "execution_count": 347,
   "metadata": {},
   "outputs": [
    {
     "name": "stdout",
     "output_type": "stream",
     "text": [
      "Classical Arabic (CA) #sentences: 7,743,137\n",
      "Modern Standard Arabic (MSA) #sentences: 258,853\n"
     ]
    }
   ],
   "source": [
    "print(f\"Classical Arabic (CA) #sentences: {len(ca_dfv0):,}\", f\"Modern Standard Arabic (MSA) #sentences: {len(msa_dfv0):,}\", sep='\\n')"
   ]
  },
  {
   "cell_type": "code",
   "execution_count": 348,
   "metadata": {},
   "outputs": [],
   "source": [
    "ca_dfv1 = ca_dfv0[ca_dfv0['words'] > 3].reset_index(drop=True)\n",
    "msa_dfv1 = msa_dfv0[msa_dfv0['words'] > 3].reset_index(drop=True)"
   ]
  },
  {
   "cell_type": "code",
   "execution_count": 349,
   "metadata": {},
   "outputs": [
    {
     "data": {
      "text/html": [
       "<div>\n",
       "<style scoped>\n",
       "    .dataframe tbody tr th:only-of-type {\n",
       "        vertical-align: middle;\n",
       "    }\n",
       "\n",
       "    .dataframe tbody tr th {\n",
       "        vertical-align: top;\n",
       "    }\n",
       "\n",
       "    .dataframe thead th {\n",
       "        text-align: right;\n",
       "    }\n",
       "</style>\n",
       "<table border=\"1\" class=\"dataframe\">\n",
       "  <thead>\n",
       "    <tr style=\"text-align: right;\">\n",
       "      <th></th>\n",
       "      <th>text</th>\n",
       "      <th>words</th>\n",
       "      <th>chars</th>\n",
       "      <th>chars_no_diac</th>\n",
       "    </tr>\n",
       "  </thead>\n",
       "  <tbody>\n",
       "    <tr>\n",
       "      <th>0</th>\n",
       "      <td>أحكام القرآن لابن العربي</td>\n",
       "      <td>4</td>\n",
       "      <td>24</td>\n",
       "      <td>24</td>\n",
       "    </tr>\n",
       "    <tr>\n",
       "      <th>1</th>\n",
       "      <td>وَنَثَرَ فِيهِ أَلْبَابَ الْأَلْبَابِ</td>\n",
       "      <td>4</td>\n",
       "      <td>37</td>\n",
       "      <td>22</td>\n",
       "    </tr>\n",
       "    <tr>\n",
       "      <th>2</th>\n",
       "      <td>نَظَرْنَاهَا مِنْ ذَلِكَ الْمَطْرَحِ</td>\n",
       "      <td>4</td>\n",
       "      <td>36</td>\n",
       "      <td>21</td>\n",
       "    </tr>\n",
       "    <tr>\n",
       "      <th>3</th>\n",
       "      <td>وَمَا تَعَارَضَ فِيهِ شَجَرْنَاهُ</td>\n",
       "      <td>4</td>\n",
       "      <td>33</td>\n",
       "      <td>20</td>\n",
       "    </tr>\n",
       "    <tr>\n",
       "      <th>4</th>\n",
       "      <td>وَنَحْتَاطُ عَلَى جَانِبِ اللُّغَةِ</td>\n",
       "      <td>4</td>\n",
       "      <td>35</td>\n",
       "      <td>21</td>\n",
       "    </tr>\n",
       "    <tr>\n",
       "      <th>...</th>\n",
       "      <td>...</td>\n",
       "      <td>...</td>\n",
       "      <td>...</td>\n",
       "      <td>...</td>\n",
       "    </tr>\n",
       "    <tr>\n",
       "      <th>4326185</th>\n",
       "      <td>فَصْلٌ وَقَوْلُهُ صَلَّى اللَّهُ عَلَيْهِ وَسَ...</td>\n",
       "      <td>557</td>\n",
       "      <td>4726</td>\n",
       "      <td>2813</td>\n",
       "    </tr>\n",
       "    <tr>\n",
       "      <th>4326186</th>\n",
       "      <td>مَسْأَلَةٌ إِذَا ثَبَتَ ذَلِكَ فَالْوَقْتُ الّ...</td>\n",
       "      <td>597</td>\n",
       "      <td>5277</td>\n",
       "      <td>3144</td>\n",
       "    </tr>\n",
       "    <tr>\n",
       "      <th>4326187</th>\n",
       "      <td>قَالَ بَعْضهمْ فِي هَذَا قَوْلَانِ أَحَدهمَا أ...</td>\n",
       "      <td>607</td>\n",
       "      <td>5139</td>\n",
       "      <td>3202</td>\n",
       "    </tr>\n",
       "    <tr>\n",
       "      <th>4326188</th>\n",
       "      <td>فَصْلٌ وَقَوْلُهُ فَأَمْلَتْ عَلَيَّ حَافِظُوا...</td>\n",
       "      <td>679</td>\n",
       "      <td>6003</td>\n",
       "      <td>3625</td>\n",
       "    </tr>\n",
       "    <tr>\n",
       "      <th>4326189</th>\n",
       "      <td>فَصْلٌ وَقَوْلُهُ غَسَلَ رِجْلَيْهِ يَقْتَضِي ...</td>\n",
       "      <td>762</td>\n",
       "      <td>6448</td>\n",
       "      <td>3837</td>\n",
       "    </tr>\n",
       "  </tbody>\n",
       "</table>\n",
       "<p>4326190 rows × 4 columns</p>\n",
       "</div>"
      ],
      "text/plain": [
       "                                                      text  words  chars  \\\n",
       "0                                 أحكام القرآن لابن العربي      4     24   \n",
       "1                    وَنَثَرَ فِيهِ أَلْبَابَ الْأَلْبَابِ      4     37   \n",
       "2                     نَظَرْنَاهَا مِنْ ذَلِكَ الْمَطْرَحِ      4     36   \n",
       "3                        وَمَا تَعَارَضَ فِيهِ شَجَرْنَاهُ      4     33   \n",
       "4                      وَنَحْتَاطُ عَلَى جَانِبِ اللُّغَةِ      4     35   \n",
       "...                                                    ...    ...    ...   \n",
       "4326185  فَصْلٌ وَقَوْلُهُ صَلَّى اللَّهُ عَلَيْهِ وَسَ...    557   4726   \n",
       "4326186  مَسْأَلَةٌ إِذَا ثَبَتَ ذَلِكَ فَالْوَقْتُ الّ...    597   5277   \n",
       "4326187  قَالَ بَعْضهمْ فِي هَذَا قَوْلَانِ أَحَدهمَا أ...    607   5139   \n",
       "4326188  فَصْلٌ وَقَوْلُهُ فَأَمْلَتْ عَلَيَّ حَافِظُوا...    679   6003   \n",
       "4326189  فَصْلٌ وَقَوْلُهُ غَسَلَ رِجْلَيْهِ يَقْتَضِي ...    762   6448   \n",
       "\n",
       "         chars_no_diac  \n",
       "0                   24  \n",
       "1                   22  \n",
       "2                   21  \n",
       "3                   20  \n",
       "4                   21  \n",
       "...                ...  \n",
       "4326185           2813  \n",
       "4326186           3144  \n",
       "4326187           3202  \n",
       "4326188           3625  \n",
       "4326189           3837  \n",
       "\n",
       "[4326190 rows x 4 columns]"
      ]
     },
     "execution_count": 349,
     "metadata": {},
     "output_type": "execute_result"
    }
   ],
   "source": [
    "ca_dfv1"
   ]
  },
  {
   "cell_type": "code",
   "execution_count": 350,
   "metadata": {},
   "outputs": [
    {
     "name": "stdout",
     "output_type": "stream",
     "text": [
      "Classical Arabic (CA) #sentences: 4,326,190\n",
      "Modern Standard Arabic (MSA) #sentences: 81,677\n"
     ]
    }
   ],
   "source": [
    "print(f\"Classical Arabic (CA) #sentences: {len(ca_dfv1):,}\", f\"Modern Standard Arabic (MSA) #sentences: {len(msa_dfv1):,}\", sep='\\n')"
   ]
  },
  {
   "cell_type": "code",
   "execution_count": 355,
   "metadata": {},
   "outputs": [],
   "source": [
    "msa_dfv1.to_csv('./dataset/v2/MSA.csv', index=False, encoding='utf-8')\n",
    "ca_dfv1.to_csv('./dataset/v2/CA.csv', index=False, encoding='utf-8')"
   ]
  },
  {
   "cell_type": "markdown",
   "metadata": {},
   "source": []
  },
  {
   "cell_type": "markdown",
   "metadata": {},
   "source": []
  },
  {
   "cell_type": "code",
   "execution_count": 356,
   "metadata": {},
   "outputs": [],
   "source": [
    "msa_dfv1 = pd.read_csv('./dataset/v2/MSA.csv', encoding='utf-8')\n",
    "ca_dfv1 = pd.read_csv('./dataset/v2/CA.csv', encoding='utf-8')"
   ]
  },
  {
   "cell_type": "code",
   "execution_count": 357,
   "metadata": {},
   "outputs": [
    {
     "data": {
      "image/png": "[encoded data removed]",
      "text/plain": [
       "<Figure size 640x480 with 1 Axes>"
      ]
     },
     "metadata": {},
     "output_type": "display_data"
    }
   ],
   "source": [
    "ca_dfv1['words'].plot.hist(bins=50, label='CA');"
   ]
  },
  {
   "cell_type": "code",
   "execution_count": 358,
   "metadata": {},
   "outputs": [
    {
     "data": {
      "image/png": "[encoded data removed]",
      "text/plain": [
       "<Figure size 640x480 with 1 Axes>"
      ]
     },
     "metadata": {},
     "output_type": "display_data"
    }
   ],
   "source": [
    "ca_dfv1[ca_dfv1['words']<100]['words'].plot.hist(bins=50, label='CA');"
   ]
  },
  {
   "cell_type": "code",
   "execution_count": 370,
   "metadata": {},
   "outputs": [],
   "source": [
    "ca_dfv2 = ca_dfv1[(ca_dfv1['words'] > 4) & (ca_dfv1['chars'] >= 47)]\n",
    "msa_dfv2 = msa_dfv1[(msa_dfv1['words'] > 4) & (msa_dfv1['chars'] >= 47)]"
   ]
  },
  {
   "cell_type": "code",
   "execution_count": 371,
   "metadata": {},
   "outputs": [],
   "source": [
    "# approximating the avg chars per word in arabic text is 7\n",
    "# so we can remove any sentence that has less than 7*words characters\n",
    "# this will remove many of the non-sense sentences\n",
    "# even if 7 is not the exact avg and is a bit higher, it's rare to eliminate a useful sentence\n",
    "# sense diacricts are considered as characters thus will ensure to be more than 7 chars per word\n",
    "ca_clean = ca_dfv2.copy()\n",
    "for i in range(5, max(ca_dfv2['words'])+1):\n",
    "    ca_clean = ca_clean[~((ca_clean['words'] > i) & (ca_clean['chars'] < i*7))]\n",
    "    \n",
    "msa_clean = msa_dfv2.copy()\n",
    "for i in range(5, max(msa_dfv2['words'])+1):\n",
    "    msa_clean = msa_clean[~((msa_clean['words'] > i) & (msa_clean['chars'] < i*7))]"
   ]
  },
  {
   "cell_type": "code",
   "execution_count": 372,
   "metadata": {},
   "outputs": [
    {
     "name": "stdout",
     "output_type": "stream",
     "text": [
      "Classical Arabic (CA) #sentences: 3,225,135\n",
      "Modern Standard Arabic (MSA) #sentences: 43,897\n"
     ]
    }
   ],
   "source": [
    "print(f\"Classical Arabic (CA) #sentences: {len(ca_clean):,}\", f\"Modern Standard Arabic (MSA) #sentences: {len(msa_clean):,}\", sep='\\n')"
   ]
  },
  {
   "cell_type": "code",
   "execution_count": 661,
   "metadata": {},
   "outputs": [
    {
     "name": "stdout",
     "output_type": "stream",
     "text": [
      "total number of sentences removed in Classical Arabic (CA): 1,101,055\n",
      "total number of sentences removed in Modern Standard Arabic (MSA): 37,780\n"
     ]
    }
   ],
   "source": [
    "print(f\"total number of sentences removed in Classical Arabic (CA): {len(ca_dfv1) - len(ca_clean):,}\")\n",
    "print(f\"total number of sentences removed in Modern Standard Arabic (MSA): {len(msa_dfv1) - len(msa_clean):,}\")"
   ]
  },
  {
   "cell_type": "code",
   "execution_count": 477,
   "metadata": {},
   "outputs": [],
   "source": [
    "ca_500 = ca_clean[ca_clean['chars'] <= 500].reset_index(drop=True)\n",
    "msa_500 = msa_clean[msa_clean['chars'] <= 500].reset_index(drop=True)"
   ]
  },
  {
   "cell_type": "code",
   "execution_count": 382,
   "metadata": {},
   "outputs": [
    {
     "name": "stdout",
     "output_type": "stream",
     "text": [
      "Classical Arabic (CA) #sentences: 3,117,574\n",
      "Modern Standard Arabic (MSA) #sentences: 43,835\n"
     ]
    }
   ],
   "source": [
    "print(f\"Classical Arabic (CA) #sentences: {len(ca_500):,}\", f\"Modern Standard Arabic (MSA) #sentences: {len(msa_500):,}\", sep='\\n')"
   ]
  },
  {
   "cell_type": "code",
   "execution_count": 383,
   "metadata": {},
   "outputs": [
    {
     "name": "stdout",
     "output_type": "stream",
     "text": [
      "total number of sentences removed in Classical Arabic (CA): 1,208,616\n",
      "total number of sentences removed in Modern Standard Arabic (MSA): 37,842\n"
     ]
    }
   ],
   "source": [
    "print(f\"total number of sentences removed in Classical Arabic (CA): {len(ca_dfv1) - len(ca_500):,}\")\n",
    "print(f\"total number of sentences removed in Modern Standard Arabic (MSA): {len(msa_dfv1) - len(msa_500):,}\")"
   ]
  },
  {
   "cell_type": "code",
   "execution_count": 645,
   "metadata": {},
   "outputs": [],
   "source": [
    "def is_fully_diacritized(text):\n",
    "    text = text+\" \" # add a space to avoid EOL exception\n",
    "    ESCAPED = (\"ا\",\"ي\", \"و\", \"ى\", \" \", \"آ\", \"إ\")\n",
    "    i = 0\n",
    "    while i < len(text):\n",
    "        if text[i] in ESCAPED:\n",
    "            i += 1\n",
    "            continue\n",
    "        if text[i] in constants.HARAKAT:\n",
    "            if (text[i-1] == constants.SHADDA) or (text[i] == constants.SHADDA and text[i-1] in constants.HARAKAT - set(constants.SHADDA)) or (text[i-1] in ESCAPED):\n",
    "                i += 1\n",
    "                continue\n",
    "            return False # if this reached, then this is a double diacritic on the same character which is totally wrong\n",
    "        if text[i+1] not in constants.HARAKAT:\n",
    "            if text[i] == 'ل' and text[i-1] == 'ا':\n",
    "                i+=1 # skip the (ال)\n",
    "                continue\n",
    "            # print(f\"Character {text[i]} at index {i} is not diacritized\")\n",
    "            return False\n",
    "        i += 2\n",
    "    return True\n",
    "        "
   ]
  },
  {
   "cell_type": "code",
   "execution_count": 646,
   "metadata": {},
   "outputs": [
    {
     "data": {
      "text/plain": [
       "True"
      ]
     },
     "execution_count": 646,
     "metadata": {},
     "output_type": "execute_result"
    }
   ],
   "source": [
    "is_fully_diacritized(\"وَتُنْسَبُ إلَيْهِ فِيهِ الْمَقَادِيرُ وَالْكَائِنَاتُ\")"
   ]
  },
  {
   "cell_type": "code",
   "execution_count": 657,
   "metadata": {},
   "outputs": [
    {
     "data": {
      "text/plain": [
       "(43835, 4)"
      ]
     },
     "execution_count": 657,
     "metadata": {},
     "output_type": "execute_result"
    }
   ],
   "source": [
    "msa_500.shape, ca_500.shape"
   ]
  },
  {
   "cell_type": "code",
   "execution_count": 658,
   "metadata": {},
   "outputs": [],
   "source": [
    "msa_fully_diac = msa_500[msa_500['text'].apply(is_fully_diacritized)]\n",
    "ca_fully_diac = ca_500[ca_500['text'].apply(is_fully_diacritized)]"
   ]
  },
  {
   "cell_type": "code",
   "execution_count": 659,
   "metadata": {},
   "outputs": [
    {
     "name": "stdout",
     "output_type": "stream",
     "text": [
      "Classical Arabic (CA) #sentences: 2,628,203\n",
      "Modern Standard Arabic (MSA) #sentences: 29,706\n"
     ]
    }
   ],
   "source": [
    "print(f\"Classical Arabic (CA) #sentences: {len(ca_fully_diac):,}\", f\"Modern Standard Arabic (MSA) #sentences: {len(msa_fully_diac):,}\", sep='\\n')"
   ]
  },
  {
   "cell_type": "code",
   "execution_count": 660,
   "metadata": {},
   "outputs": [
    {
     "name": "stdout",
     "output_type": "stream",
     "text": [
      "total number of sentences removed in Classical Arabic (CA): 489,371\n",
      "total number of sentences removed in Modern Standard Arabic (MSA): 14,129\n"
     ]
    }
   ],
   "source": [
    "print(f\"total number of sentences removed in Classical Arabic (CA): {len(ca_500) - len(ca_fully_diac):,}\")\n",
    "print(f\"total number of sentences removed in Modern Standard Arabic (MSA): {len(msa_500) - len(msa_fully_diac):,}\")"
   ]
  },
  {
   "cell_type": "code",
   "execution_count": 677,
   "metadata": {},
   "outputs": [],
   "source": [
    "ca_fully_diac.to_csv('./dataset/v3/CA.csv', index=False, encoding='utf-8')\n",
    "msa_fully_diac.to_csv('./dataset/v3/MSA.csv', index=False, encoding='utf-8')"
   ]
  },
  {
   "cell_type": "markdown",
   "metadata": {},
   "source": []
  },
  {
   "cell_type": "markdown",
   "metadata": {},
   "source": []
  },
  {
   "cell_type": "code",
   "execution_count": 4,
   "metadata": {},
   "outputs": [],
   "source": [
    "ca_ds = pd.read_csv('./dataset/v3/CA.csv')\n",
    "msa_ds = pd.read_csv('./dataset/v3/MSA.csv')"
   ]
  },
  {
   "cell_type": "code",
   "execution_count": 20,
   "metadata": {},
   "outputs": [],
   "source": [
    "from sklearn.model_selection import train_test_split"
   ]
  },
  {
   "cell_type": "code",
   "execution_count": 45,
   "metadata": {},
   "outputs": [
    {
     "data": {
      "text/plain": [
       "(5.387995246305006, 5.016840166376898)"
      ]
     },
     "execution_count": 45,
     "metadata": {},
     "output_type": "execute_result"
    }
   ],
   "source": [
    "msa_ds['chars'].describe()"
   ]
  },
  {
   "cell_type": "code",
   "execution_count": 141,
   "metadata": {},
   "outputs": [],
   "source": [
    "msa_bins = [0, 5, 10, 15, 20, 25, 30, 35, 40, 48, float(\"inf\")]"
   ]
  },
  {
   "cell_type": "code",
   "execution_count": 142,
   "metadata": {},
   "outputs": [],
   "source": [
    "ca_cut = pd.cut(ca_ds['words'], 15)\n",
    "msa_cut = pd.cut(msa_ds['words'], msa_bins)"
   ]
  },
  {
   "cell_type": "code",
   "execution_count": 144,
   "metadata": {},
   "outputs": [
    {
     "data": {
      "image/png": "[encoded data removed]",
      "text/plain": [
       "<Figure size 640x480 with 1 Axes>"
      ]
     },
     "metadata": {},
     "output_type": "display_data"
    }
   ],
   "source": [
    "ca_cut.value_counts().sort_index().plot.bar();"
   ]
  },
  {
   "cell_type": "code",
   "execution_count": 92,
   "metadata": {},
   "outputs": [
    {
     "data": {
      "text/html": [
       "<div>\n",
       "<style scoped>\n",
       "    .dataframe tbody tr th:only-of-type {\n",
       "        vertical-align: middle;\n",
       "    }\n",
       "\n",
       "    .dataframe tbody tr th {\n",
       "        vertical-align: top;\n",
       "    }\n",
       "\n",
       "    .dataframe thead th {\n",
       "        text-align: right;\n",
       "    }\n",
       "</style>\n",
       "<table border=\"1\" class=\"dataframe\">\n",
       "  <thead>\n",
       "    <tr style=\"text-align: right;\">\n",
       "      <th></th>\n",
       "      <th>text</th>\n",
       "      <th>words</th>\n",
       "      <th>chars</th>\n",
       "      <th>chars_no_diac</th>\n",
       "    </tr>\n",
       "  </thead>\n",
       "  <tbody>\n",
       "    <tr>\n",
       "      <th>0</th>\n",
       "      <td>فَكَانَتْ تَسْمَعُ امْرَأَةٌ اسْمُهَا لِيدِيَّةُ</td>\n",
       "      <td>5</td>\n",
       "      <td>48</td>\n",
       "      <td>28</td>\n",
       "    </tr>\n",
       "    <tr>\n",
       "      <th>1</th>\n",
       "      <td>بَيَّاعَةُ أُرْجُوَانٍ مِنْ مَدِينَةِ ثَيَاتِيرَا</td>\n",
       "      <td>5</td>\n",
       "      <td>49</td>\n",
       "      <td>29</td>\n",
       "    </tr>\n",
       "    <tr>\n",
       "      <th>2</th>\n",
       "      <td>فَانْفَتَحَتْ فِي الْحَالِ الأَبْوَابُ كُلُّهَا</td>\n",
       "      <td>5</td>\n",
       "      <td>47</td>\n",
       "      <td>29</td>\n",
       "    </tr>\n",
       "    <tr>\n",
       "      <th>3</th>\n",
       "      <td>فَاخْتَشَوْا لَمَّا سَمِعُوا أَنَّهُمَا رُومَا...</td>\n",
       "      <td>5</td>\n",
       "      <td>54</td>\n",
       "      <td>32</td>\n",
       "    </tr>\n",
       "    <tr>\n",
       "      <th>4</th>\n",
       "      <td>وَسَأَلُوهُمَا أَنْ يَخْرُجَا مِنَ الْمَدِينَةِ</td>\n",
       "      <td>5</td>\n",
       "      <td>47</td>\n",
       "      <td>28</td>\n",
       "    </tr>\n",
       "    <tr>\n",
       "      <th>...</th>\n",
       "      <td>...</td>\n",
       "      <td>...</td>\n",
       "      <td>...</td>\n",
       "      <td>...</td>\n",
       "    </tr>\n",
       "    <tr>\n",
       "      <th>29701</th>\n",
       "      <td>وَهُوَ اللَّهُ لَا إِلَهَ إِلَّا هُوَ لَهُ الْ...</td>\n",
       "      <td>56</td>\n",
       "      <td>475</td>\n",
       "      <td>283</td>\n",
       "    </tr>\n",
       "    <tr>\n",
       "      <th>29702</th>\n",
       "      <td>وَإِذْ قَالَ رَبُّكَ لِلْمَلَائِكَةِ إِنِّي جَ...</td>\n",
       "      <td>56</td>\n",
       "      <td>485</td>\n",
       "      <td>290</td>\n",
       "    </tr>\n",
       "    <tr>\n",
       "      <th>29703</th>\n",
       "      <td>وَأَنَّ الْعَلَاقَةَ الْجِنْسِيَّةَ هِيَ نَجَس...</td>\n",
       "      <td>56</td>\n",
       "      <td>498</td>\n",
       "      <td>288</td>\n",
       "    </tr>\n",
       "    <tr>\n",
       "      <th>29704</th>\n",
       "      <td>وَقَالُوا لَنْ نُؤْمِنَ لَكَ حَتَّى تَفْجُرَ ل...</td>\n",
       "      <td>59</td>\n",
       "      <td>479</td>\n",
       "      <td>285</td>\n",
       "    </tr>\n",
       "    <tr>\n",
       "      <th>29705</th>\n",
       "      <td>وَقَالُوا لَنْ نُؤْمِنَ لَكَ حَتَّى تَفْجُرَ ل...</td>\n",
       "      <td>59</td>\n",
       "      <td>479</td>\n",
       "      <td>285</td>\n",
       "    </tr>\n",
       "  </tbody>\n",
       "</table>\n",
       "<p>29706 rows × 4 columns</p>\n",
       "</div>"
      ],
      "text/plain": [
       "                                                    text  words  chars  \\\n",
       "0       فَكَانَتْ تَسْمَعُ امْرَأَةٌ اسْمُهَا لِيدِيَّةُ      5     48   \n",
       "1      بَيَّاعَةُ أُرْجُوَانٍ مِنْ مَدِينَةِ ثَيَاتِيرَا      5     49   \n",
       "2        فَانْفَتَحَتْ فِي الْحَالِ الأَبْوَابُ كُلُّهَا      5     47   \n",
       "3      فَاخْتَشَوْا لَمَّا سَمِعُوا أَنَّهُمَا رُومَا...      5     54   \n",
       "4        وَسَأَلُوهُمَا أَنْ يَخْرُجَا مِنَ الْمَدِينَةِ      5     47   \n",
       "...                                                  ...    ...    ...   \n",
       "29701  وَهُوَ اللَّهُ لَا إِلَهَ إِلَّا هُوَ لَهُ الْ...     56    475   \n",
       "29702  وَإِذْ قَالَ رَبُّكَ لِلْمَلَائِكَةِ إِنِّي جَ...     56    485   \n",
       "29703  وَأَنَّ الْعَلَاقَةَ الْجِنْسِيَّةَ هِيَ نَجَس...     56    498   \n",
       "29704  وَقَالُوا لَنْ نُؤْمِنَ لَكَ حَتَّى تَفْجُرَ ل...     59    479   \n",
       "29705  وَقَالُوا لَنْ نُؤْمِنَ لَكَ حَتَّى تَفْجُرَ ل...     59    479   \n",
       "\n",
       "       chars_no_diac  \n",
       "0                 28  \n",
       "1                 29  \n",
       "2                 29  \n",
       "3                 32  \n",
       "4                 28  \n",
       "...              ...  \n",
       "29701            283  \n",
       "29702            290  \n",
       "29703            288  \n",
       "29704            285  \n",
       "29705            285  \n",
       "\n",
       "[29706 rows x 4 columns]"
      ]
     },
     "execution_count": 92,
     "metadata": {},
     "output_type": "execute_result"
    }
   ],
   "source": [
    "msa_ds"
   ]
  },
  {
   "cell_type": "code",
   "execution_count": 151,
   "metadata": {},
   "outputs": [],
   "source": [
    "msa_train, temp, _, st_y = train_test_split(msa_ds, msa_cut, stratify=msa_cut, test_size=0.1, random_state=2024)\n",
    "msa_val, msa_test = train_test_split(temp, stratify=st_y, test_size=0.5, random_state=42)"
   ]
  },
  {
   "cell_type": "code",
   "execution_count": 152,
   "metadata": {},
   "outputs": [],
   "source": [
    "ca_train, temp, _, st_y = train_test_split(ca_ds, ca_cut, stratify=ca_cut, test_size=0.1, random_state=2024)\n",
    "ca_val, ca_test = train_test_split(temp, stratify=st_y, test_size=0.5, random_state=42)"
   ]
  },
  {
   "cell_type": "code",
   "execution_count": 163,
   "metadata": {},
   "outputs": [
    {
     "name": "stdout",
     "output_type": "stream",
     "text": [
      "CA train: 2,365,382\n",
      "CA val: 131,410\n",
      "CA test: 131,411\n"
     ]
    }
   ],
   "source": [
    "print(f\"CA train: {len(ca_train):,}\", f\"CA val: {len(ca_val):,}\", f\"CA test: {len(ca_test):,}\",sep='\\n')"
   ]
  },
  {
   "cell_type": "code",
   "execution_count": 162,
   "metadata": {},
   "outputs": [
    {
     "name": "stdout",
     "output_type": "stream",
     "text": [
      "MSA train: 26,735\n",
      "MSA val: 1,485\n",
      "MSA test: 1,486\n"
     ]
    }
   ],
   "source": [
    "print(f\"MSA train: {len(msa_train):,}\", f\"MSA val: {len(msa_val):,}\", f\"MSA test: {len(msa_test):,}\",sep='\\n')"
   ]
  },
  {
   "cell_type": "code",
   "execution_count": 164,
   "metadata": {},
   "outputs": [],
   "source": [
    "ca_train.to_csv('./dataset/Tashkeela-clean/CA/CA_train.csv', index=False, encoding='utf-8')\n",
    "ca_val.to_csv('./dataset/Tashkeela-clean/CA/CA_val.csv', index=False, encoding='utf-8')\n",
    "ca_test.to_csv('./dataset/Tashkeela-clean/CA/CA_test.csv', index=False, encoding='utf-8')"
   ]
  },
  {
   "cell_type": "code",
   "execution_count": 165,
   "metadata": {},
   "outputs": [],
   "source": [
    "msa_train.to_csv('./dataset/Tashkeela-clean/MSA/MSA_train.csv', index=False, encoding='utf-8')\n",
    "msa_val.to_csv('./dataset/Tashkeela-clean/MSA/MSA_val.csv', index=False, encoding='utf-8')\n",
    "msa_test.to_csv('./dataset/Tashkeela-clean/MSA/MSA_test.csv', index=False, encoding='utf-8')"
   ]
  },
  {
   "cell_type": "code",
   "execution_count": null,
   "metadata": {},
   "outputs": [],
   "source": []
  },
  {
   "cell_type": "code",
   "execution_count": null,
   "metadata": {},
   "outputs": [],
   "source": [
    "ca_train, ca_val, ca_test = pd.read_csv('./dataset/Tashkeela-clean/CA/CA_train.csv'), pd.read_csv('./dataset/Tashkeela-clean/CA/CA_val.csv'), pd.read_csv('./dataset/Tashkeela-clean/CA/CA_test.csv')\n",
    "msa_train, msa_val, msa_test = pd.read_csv('./dataset/Tashkeela-clean/MSA/MSA_train.csv'), pd.read_csv('./dataset/Tashkeela-clean/MSA/MSA_val.csv'), pd.read_csv('./dataset/Tashkeela-clean/MSA/MSA_test.csv')"
   ]
  },
  {
   "cell_type": "code",
   "execution_count": null,
   "metadata": {},
   "outputs": [],
   "source": [
    "def fix_shadda(text):\n",
    "    def _swap(text, i, j):\n",
    "        text = list(text)\n",
    "        text[i], text[j] = text[j], text[i]\n",
    "        return ''.join(text)\n",
    "\n",
    "    text = text+\" \" # add space to avoid index out of range\n",
    "    idx = 0\n",
    "    while idx < len(text)-1:\n",
    "        curr, next = text[idx], text[idx+1]\n",
    "        if curr in constants.HARAKAT and next == constants.SHADDA:\n",
    "            text = _swap(text, idx, idx+1)\n",
    "        idx += 1\n",
    "    return text[:-1]"
   ]
  },
  {
   "cell_type": "code",
   "execution_count": null,
   "metadata": {},
   "outputs": [],
   "source": [
    "ca_train.text = ca_train.text.apply(Preprocessor.fix_shadda)\n",
    "ca_val.text = ca_val.text.apply(Preprocessor.fix_shadda)\n",
    "ca_test.text = ca_test.text.apply(Preprocessor.fix_shadda)\n",
    "\n",
    "msa_train.text = msa_train.text.apply(Preprocessor.fix_shadda)\n",
    "msa_val.text = msa_val.text.apply(Preprocessor.fix_shadda)\n",
    "msa_test.text = msa_test.text.apply(Preprocessor.fix_shadda)"
   ]
  },
  {
   "cell_type": "code",
   "execution_count": 40,
   "metadata": {},
   "outputs": [],
   "source": [
    "def has_consecutive_diacritics(text):\n",
    "    text = text+' ' # add space to avoid index out of range\n",
    "    idx = 0\n",
    "    while idx < len(text)-1:\n",
    "        # if the current character is a diacritic and the next character is a diacritic or if the current character is shadda and the next character is shadda\n",
    "        if (text[idx] in (constants.HARAKAT - set(constants.SHADDA)) and text[idx+1] in constants.HARAKAT) or (text[idx] == constants.SHADDA and text[idx+1] == constants.SHADDA):\n",
    "            return True\n",
    "        idx += 1\n",
    "    return False\n",
    "\n",
    "def has_space_diac(text):\n",
    "    text = text+' ' # add space to avoid index out of range\n",
    "    idx = 0\n",
    "    while idx<len(text)-1:\n",
    "        if text[idx] in \" \" and text[idx+1] in constants.HARAKAT:\n",
    "            return True\n",
    "        idx += 1\n",
    "    return False\n",
    "\n",
    "def fix_diacritic_start(text):\n",
    "    while text[0] in constants.HARAKAT:\n",
    "        text = text[1:].strip()\n",
    "    return text"
   ]
  },
  {
   "cell_type": "code",
   "execution_count": 41,
   "metadata": {},
   "outputs": [],
   "source": [
    "msa_train_fix1 = msa_train[~msa_train['text'].apply(has_consecutive_diacritics)]\n",
    "msa_val_fix1 = msa_val[~msa_val['text'].apply(has_consecutive_diacritics)]\n",
    "msa_test_fix1 = msa_test[~msa_test['text'].apply(has_consecutive_diacritics)]"
   ]
  },
  {
   "cell_type": "code",
   "execution_count": 42,
   "metadata": {},
   "outputs": [],
   "source": [
    "ca_train_fix1 = ca_train[~ca_train['text'].apply(has_consecutive_diacritics)]\n",
    "ca_val_fix1 = ca_val[~ca_val['text'].apply(has_consecutive_diacritics)]\n",
    "ca_test_fix1 = ca_test[~ca_test['text'].apply(has_consecutive_diacritics)]"
   ]
  },
  {
   "cell_type": "markdown",
   "metadata": {},
   "source": []
  },
  {
   "cell_type": "code",
   "execution_count": 43,
   "metadata": {},
   "outputs": [],
   "source": [
    "msa_train_fix2 = msa_train_fix1[~msa_train_fix1['text'].apply(has_space_diac)]\n",
    "msa_val_fix2 = msa_val_fix1[~msa_val_fix1['text'].apply(has_space_diac)]\n",
    "msa_test_fix2 = msa_test_fix1[~msa_test_fix1['text'].apply(has_space_diac)]"
   ]
  },
  {
   "cell_type": "code",
   "execution_count": 44,
   "metadata": {},
   "outputs": [],
   "source": [
    "ca_train_fix2 = ca_train_fix1[~ca_train_fix1['text'].apply(has_space_diac)]\n",
    "ca_val_fix2 = ca_val_fix1[~ca_val_fix1['text'].apply(has_space_diac)]\n",
    "ca_test_fix2 = ca_test_fix1[~ca_test_fix1['text'].apply(has_space_diac)]"
   ]
  },
  {
   "cell_type": "code",
   "execution_count": 45,
   "metadata": {},
   "outputs": [],
   "source": [
    "msa_train_fix3 = msa_train_fix2.copy()\n",
    "msa_val_fix3 = msa_val_fix2.copy()\n",
    "msa_test_fix3 = msa_test_fix2.copy()\n",
    "\n",
    "msa_train_fix3['text'] = msa_train_fix3['text'].apply(fix_diacritic_start)\n",
    "msa_val_fix3['text'] = msa_val_fix3['text'].apply(fix_diacritic_start)\n",
    "msa_test_fix3['text'] = msa_test_fix3['text'].apply(fix_diacritic_start)"
   ]
  },
  {
   "cell_type": "code",
   "execution_count": 46,
   "metadata": {},
   "outputs": [],
   "source": [
    "ca_train_fix3 = ca_train_fix2.copy()\n",
    "ca_val_fix3 = ca_val_fix2.copy()\n",
    "ca_test_fix3 = ca_test_fix2.copy()\n",
    "\n",
    "ca_train_fix3['text'] = ca_train_fix3['text'].apply(fix_diacritic_start)\n",
    "ca_val_fix3['text'] = ca_val_fix3['text'].apply(fix_diacritic_start)\n",
    "ca_test_fix3['text'] = ca_test_fix3['text'].apply(fix_diacritic_start)"
   ]
  },
  {
   "cell_type": "code",
   "execution_count": 48,
   "metadata": {},
   "outputs": [],
   "source": [
    "msa_train_fix3.to_csv('./dataset/Tashkeela-clean-V2.0/MSA/MSA_train.csv', index=False, encoding='utf-8')\n",
    "msa_val_fix3.to_csv('./dataset/Tashkeela-clean-V2.0/MSA/MSA_val.csv', index=False, encoding='utf-8')\n",
    "msa_test_fix3.to_csv('./dataset/Tashkeela-clean-V2.0/MSA/MSA_test.csv', index=False, encoding='utf-8')\n",
    "\n",
    "ca_train_fix3.to_csv('./dataset/Tashkeela-clean-V2.0/CA/CA_train.csv', index=False, encoding='utf-8')\n",
    "ca_val_fix3.to_csv('./dataset/Tashkeela-clean-V2.0/CA/CA_val.csv', index=False, encoding='utf-8')\n",
    "ca_test_fix3.to_csv('./dataset/Tashkeela-clean-V2.0/CA/CA_test.csv', index=False, encoding='utf-8')"
   ]
  },
  {
   "cell_type": "code",
   "execution_count": 47,
   "metadata": {},
   "outputs": [
    {
     "name": "stdout",
     "output_type": "stream",
     "text": [
      "Number of sentences removed in Classical Arabic (CA): 304\n",
      "Number of sentences removed in Modern Standard Arabic (MSA): 8\n"
     ]
    }
   ],
   "source": [
    "print(f\"Number of sentences removed in Classical Arabic (CA): {len(ca_train) - len(ca_train_fix2):,}\")\n",
    "print(f\"Number of sentences removed in Modern Standard Arabic (MSA): {len(msa_train) - len(msa_train_fix2):,}\")"
   ]
  },
  {
   "cell_type": "code",
   "execution_count": null,
   "metadata": {},
   "outputs": [],
   "source": []
  }
 ],
 "metadata": {
  "kernelspec": {
   "display_name": "Shakkel",
   "language": "python",
   "name": "shakkel"
  },
  "language_info": {
   "codemirror_mode": {
    "name": "ipython",
    "version": 3
   },
   "file_extension": ".py",
   "mimetype": "text/x-python",
   "name": "python",
   "nbconvert_exporter": "python",
   "pygments_lexer": "ipython3",
   "version": "3.12.3"
  }
 },
 "nbformat": 4,
 "nbformat_minor": 2
}
